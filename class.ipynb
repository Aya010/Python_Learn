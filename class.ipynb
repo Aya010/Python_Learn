{
 "cells": [
  {
   "cell_type": "code",
   "execution_count": 4,
   "metadata": {
    "tags": []
   },
   "outputs": [
    {
     "output_type": "stream",
     "name": "stdout",
     "text": "wangguniang is red\n"
    }
   ],
   "source": [
    "class Person(object):\n",
    "    def __init__(self, name):\n",
    "        self.name = name\n",
    "    def getName(self):\n",
    "        return self.name\n",
    "    def color(self, color):\n",
    "        print(\"%s is %s\" % (self.name, color))\n",
    "girl = Person('wangguniang')\n",
    "girl.getName()\n",
    "girl.color('red')"
   ]
  },
  {
   "cell_type": "code",
   "execution_count": 8,
   "metadata": {
    "tags": []
   },
   "outputs": [
    {
     "output_type": "stream",
     "name": "stdout",
     "text": "ZhaoYi\n11\nMale\n"
    }
   ],
   "source": [
    "class Person(object):\n",
    "    def __init__(self, name, age, gender):\n",
    "        self.name = name\n",
    "        self.age = age\n",
    "        self.gender = gender\n",
    "    def get_name(self):\n",
    "        return self.name\n",
    "    def get_age(self):\n",
    "        return self.age\n",
    "    def get_gender(self):\n",
    "        return self.gender\n",
    "if __name__ == \"__main__\":\n",
    "    zhaoyi = Person(\"ZhaoYi\", 11, \"Male\")\n",
    "    print(zhaoyi.get_name())\n",
    "    print(zhaoyi.get_age())\n",
    "    print(zhaoyi.get_gender())"
   ]
  },
  {
   "cell_type": "code",
   "execution_count": 17,
   "metadata": {
    "tags": []
   },
   "outputs": [
    {
     "output_type": "stream",
     "name": "stdout",
     "text": "ZhaoYi\n"
    }
   ],
   "source": [
    "class Person(object):\n",
    "    def __init__(self, name, age, gender):\n",
    "        self.name = name\n",
    "        self.age = age\n",
    "        self.gender = gender\n",
    "    def get_name(self):\n",
    "        return self.name\n",
    "    def get_age(self):\n",
    "        return self.age\n",
    "    def get_gender(self):\n",
    "        return self.gender\n",
    "# 读取文件\n",
    "def create_ring():\n",
    "    #file_ = open(\"C:\\\\Users\\\\yi611\\\\Python_Learn\\\\file.txt\")\n",
    "    file_ = open(\"Josephus_List2.txt\")\n",
    "    ring = []\n",
    "    for line in file_:\n",
    "        ring.append(eval(line))\n",
    "    file_.close()\n",
    "    return ring\n",
    "\n",
    "def get_josephus_list(num, step, start, ring_):\n",
    "    out_order = ((start - 1) + step - 1) % num\n",
    "    num -= 1\n",
    "    josephus_list = [ring_.pop(out_order)]\n",
    "    for i in range(num):\n",
    "        out_order = (out_order + step - 1) % num\n",
    "        num -= 1\n",
    "        josephus_list.append(ring_.pop(out_order))\n",
    "    return josephus_list\n",
    "\n",
    "if __name__ == \"__main__\":\n",
    "    RING = create_ring()\n",
    "    STEP = 3\n",
    "    START = 2\n",
    "    TOTAL_NUM = len(RING)\n",
    "    josephus_list = get_josephus_list(TOTAL_NUM,\n",
    "                     STEP, START,RING)\n",
    "    print(\"第一个出局人是 %s\" % josephus_list[0].get_name)\n",
    "\n"
   ]
  }
 ],
 "metadata": {
  "language_info": {
   "codemirror_mode": {
    "name": "ipython",
    "version": 3
   },
   "file_extension": ".py",
   "mimetype": "text/x-python",
   "name": "python",
   "nbconvert_exporter": "python",
   "pygments_lexer": "ipython3",
   "version": 3
  },
  "orig_nbformat": 2,
  "kernelspec": {
   "name": "python_defaultSpec_1594614419225",
   "display_name": "Python 3.7.6 64-bit (virtualenv)"
  }
 },
 "nbformat": 4,
 "nbformat_minor": 2
}