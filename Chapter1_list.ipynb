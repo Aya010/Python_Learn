{
 "cells": [
  {
   "cell_type": "code",
   "execution_count": 4,
   "metadata": {
    "tags": []
   },
   "outputs": [
    {
     "output_type": "stream",
     "name": "stdout",
     "text": "[]\n"
    }
   ],
   "source": [
    "a = []\n",
    "#type(a)\n",
    "print(a)"
   ]
  },
  {
   "cell_type": "code",
   "execution_count": 6,
   "metadata": {
    "tags": []
   },
   "outputs": [
    {
     "output_type": "stream",
     "name": "stdout",
     "text": "['2', 3, 'Aya010.github.io']\n"
    },
    {
     "output_type": "execute_result",
     "data": {
      "text/plain": "True"
     },
     "metadata": {},
     "execution_count": 6
    }
   ],
   "source": [
    "a=['2',3,'Aya010.github.io']\n",
    "print(a)\n",
    "bool(a)"
   ]
  },
  {
   "cell_type": "code",
   "execution_count": 9,
   "metadata": {},
   "outputs": [
    {
     "output_type": "execute_result",
     "data": {
      "text/plain": "['2', 3, 'Aya010.github.io']"
     },
     "metadata": {},
     "execution_count": 9
    }
   ],
   "source": [
    "a[0:7] # 包含起始和结束位置"
   ]
  },
  {
   "cell_type": "code",
   "execution_count": 11,
   "metadata": {},
   "outputs": [
    {
     "output_type": "execute_result",
     "data": {
      "text/plain": "['python', 'java']"
     },
     "metadata": {},
     "execution_count": 11
    }
   ],
   "source": [
    "lst = ['python','java','c++']\n",
    "lst[-3:-1] # 不包含结束"
   ]
  },
  {
   "cell_type": "code",
   "execution_count": 17,
   "metadata": {
    "tags": []
   },
   "outputs": [
    {
     "output_type": "stream",
     "name": "stdout",
     "text": "python nohtyp\n"
    }
   ],
   "source": [
    "lst[::-1] # 反转列表1\n",
    "list(reversed(lst)) # 反转列表2\n",
    "str1 = lst[0]\n",
    "str2 = str[::-1] # 反转字符串，不改变原值\n",
    "print(str1,str2)"
   ]
  },
  {
   "cell_type": "code",
   "execution_count": 32,
   "metadata": {
    "tags": []
   },
   "outputs": [
    {
     "output_type": "stream",
     "name": "stdout",
     "text": "['python', 'java', 'c++', '2', 3, 'Aya010.github.io']\n"
    }
   ],
   "source": [
    "# 列表常用函数及操作\n",
    "lst = ['python','java','c++']\n",
    "len(lst) # 长度\n",
    "a + lst # 拼接\n",
    "lst * 3 # 重复\n",
    "'python' in lst # 查找元素\n",
    "max(lst)\n",
    "#min()\n",
    "#lst.append(\"javaScript\") # 追加元素\n",
    "#lst[len(lst):]='javaScript'\n",
    "lst.extend(a) # 扩展\n",
    "print(lst)"
   ]
  },
  {
   "cell_type": "code",
   "execution_count": 39,
   "metadata": {},
   "outputs": [
    {
     "output_type": "execute_result",
     "data": {
      "text/plain": "['python', 'java', 'c++', ['javaScript', 'VS code'], 'javaScript', 'VS code']"
     },
     "metadata": {},
     "execution_count": 39
    }
   ],
   "source": [
    "# append() 和 exprnd()的区别\n",
    "lst = ['python','java','c++']\n",
    "c = [\"javaScript\",\"VS code\"]\n",
    "lst.append(c) # 整体一起并入\n",
    "#lst\n",
    "lst.extend(c) # 个体化扩编\n",
    "lst"
   ]
  },
  {
   "cell_type": "code",
   "execution_count": 63,
   "metadata": {},
   "outputs": [
    {
     "output_type": "execute_result",
     "data": {
      "text/plain": "1"
     },
     "metadata": {},
     "execution_count": 63
    }
   ],
   "source": [
    "# lst.count(x) 计数\n",
    "ln = [1,5,2,3,4,4,4,3]\n",
    "ln.count(1)"
   ]
  },
  {
   "cell_type": "code",
   "execution_count": 47,
   "metadata": {},
   "outputs": [
    {
     "output_type": "execute_result",
     "data": {
      "text/plain": "1"
     },
     "metadata": {},
     "execution_count": 47
    }
   ],
   "source": [
    "# lst.index(x) 第1次出现的序号\n",
    "ln.index(5)"
   ]
  },
  {
   "cell_type": "code",
   "execution_count": 52,
   "metadata": {},
   "outputs": [
    {
     "output_type": "execute_result",
     "data": {
      "text/plain": "[1, 5, 9, 9, 2, 3, 4, 4, 4, 3]"
     },
     "metadata": {},
     "execution_count": 52
    }
   ],
   "source": [
    "# lst.insert(i,x) 在第i个位置插入x\n",
    "ln.insert(2,9)\n",
    "ln"
   ]
  },
  {
   "cell_type": "code",
   "execution_count": 62,
   "metadata": {},
   "outputs": [
    {
     "output_type": "execute_result",
     "data": {
      "text/plain": "[1, 5, 4]"
     },
     "metadata": {},
     "execution_count": 62
    }
   ],
   "source": [
    "#list.remove(x)  删除列表的元素\n",
    "#list.pop([i])\n",
    "#ln.remove(2)\n",
    "ln.pop(2)\n",
    "ln\n"
   ]
  },
  {
   "cell_type": "code",
   "execution_count": 70,
   "metadata": {},
   "outputs": [
    {
     "output_type": "execute_result",
     "data": {
      "text/plain": "[3, 4, 4, 4, 3, 2, 5, 1]"
     },
     "metadata": {},
     "execution_count": 70
    }
   ],
   "source": [
    "#list.reverse() 反转\n",
    "ln.reverse()\n",
    "ln"
   ]
  },
  {
   "cell_type": "code",
   "execution_count": 79,
   "metadata": {},
   "outputs": [
    {
     "output_type": "execute_result",
     "data": {
      "text/plain": "[5, 4, 4, 4, 3, 3, 2, 1]"
     },
     "metadata": {},
     "execution_count": 79
    }
   ],
   "source": [
    "# sort 排序\n",
    "ln.sort(reverse=True) #True 降序 False 升序\n",
    "ln"
   ]
  }
 ],
 "metadata": {
  "language_info": {
   "codemirror_mode": {
    "name": "ipython",
    "version": 3
   },
   "file_extension": ".py",
   "mimetype": "text/x-python",
   "name": "python",
   "nbconvert_exporter": "python",
   "pygments_lexer": "ipython3",
   "version": "3.7.6-final"
  },
  "orig_nbformat": 2,
  "kernelspec": {
   "name": "python3",
   "display_name": "Python 3"
  }
 },
 "nbformat": 4,
 "nbformat_minor": 2
}