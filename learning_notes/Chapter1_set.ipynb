{
 "cells": [
  {
   "cell_type": "code",
   "execution_count": 1,
   "metadata": {},
   "outputs": [
    {
     "output_type": "execute_result",
     "data": {
      "text/plain": "{'0', '1', 'A', 'a', 'y'}"
     },
     "metadata": {},
     "execution_count": 1
    }
   ],
   "source": [
    "# set 拥有类似 dict 的特点:可以用{}花括号来定义；其中的元素没有序列,也就是是非序列类型的数据;而且,set 中的元素不可重复,这就类似 dict 的键.\n",
    "s1 = set(\"Aya010\")\n",
    "s1 # 不可重复"
   ]
  },
  {
   "cell_type": "code",
   "execution_count": 2,
   "metadata": {},
   "outputs": [
    {
     "output_type": "execute_result",
     "data": {
      "text/plain": "{123, 'book', 'face', 'facebook', 'google'}"
     },
     "metadata": {},
     "execution_count": 2
    }
   ],
   "source": [
    "s2 = set([123,\"google\",\"face\",\"book\",\"facebook\",\"book\"])\n",
    "s2 # 乱序"
   ]
  },
  {
   "cell_type": "code",
   "execution_count": 4,
   "metadata": {},
   "outputs": [
    {
     "output_type": "execute_result",
     "data": {
      "text/plain": "{123, 'facebook'}"
     },
     "metadata": {},
     "execution_count": 4
    }
   ],
   "source": [
    "s3 = {\"facebook\",123}       #通过{}直接创建\n",
    "s3 # Python 可能无法分辨集合和字典"
   ]
  },
  {
   "cell_type": "code",
   "execution_count": 5,
   "metadata": {},
   "outputs": [
    {
     "output_type": "execute_result",
     "data": {
      "text/plain": "['1', '0', 'a', 'y', 'A']"
     },
     "metadata": {},
     "execution_count": 5
    }
   ],
   "source": [
    "lst = list(s1) # 转换为列表\n",
    "lst"
   ]
  },
  {
   "cell_type": "code",
   "execution_count": 7,
   "metadata": {},
   "outputs": [
    {
     "output_type": "error",
     "ename": "TypeError",
     "evalue": "unhashable type: 'list'",
     "traceback": [
      "\u001b[1;31m---------------------------------------------------------------------------\u001b[0m",
      "\u001b[1;31mTypeError\u001b[0m                                 Traceback (most recent call last)",
      "\u001b[1;32m<ipython-input-7-afbca9076741>\u001b[0m in \u001b[0;36m<module>\u001b[1;34m\u001b[0m\n\u001b[0;32m      3\u001b[0m \u001b[0ma_set\u001b[0m\u001b[1;33m.\u001b[0m\u001b[0madd\u001b[0m\u001b[1;33m(\u001b[0m\u001b[1;34m\"Aya010\"\u001b[0m\u001b[1;33m)\u001b[0m\u001b[1;33m\u001b[0m\u001b[1;33m\u001b[0m\u001b[0m\n\u001b[0;32m      4\u001b[0m \u001b[0ma_set\u001b[0m\u001b[1;33m\u001b[0m\u001b[1;33m\u001b[0m\u001b[0m\n\u001b[1;32m----> 5\u001b[1;33m \u001b[0ma_set\u001b[0m\u001b[1;33m.\u001b[0m\u001b[0madd\u001b[0m\u001b[1;33m(\u001b[0m\u001b[1;33m[\u001b[0m\u001b[1;36m1\u001b[0m\u001b[1;33m,\u001b[0m\u001b[1;36m2\u001b[0m\u001b[1;33m,\u001b[0m\u001b[1;36m3\u001b[0m\u001b[1;33m]\u001b[0m\u001b[1;33m)\u001b[0m\u001b[1;33m\u001b[0m\u001b[1;33m\u001b[0m\u001b[0m\n\u001b[0m",
      "\u001b[1;31mTypeError\u001b[0m: unhashable type: 'list'"
     ]
    }
   ],
   "source": [
    "# 增加元素add\n",
    "a_set = {'a','i'}\n",
    "a_set.add(\"Aya010\")\n",
    "a_set\n",
    "#a_set.add([1,2,3]) 参数仅能为不可变的"
   ]
  },
  {
   "cell_type": "code",
   "execution_count": 8,
   "metadata": {},
   "outputs": [
    {
     "output_type": "execute_result",
     "data": {
      "text/plain": "{'Aya010', 'a', 'h', 'i', 'n', 'o', 'p', 't', 'y'}"
     },
     "metadata": {},
     "execution_count": 8
    }
   ],
   "source": [
    "# 合并元素 set.update(s2)\n",
    "b_set = set(\"python\")\n",
    "a_set.update(b_set)\n",
    "a_set"
   ]
  },
  {
   "cell_type": "code",
   "execution_count": null,
   "metadata": {},
   "outputs": [],
   "source": [
    "# pop, remove, discard, clear\n",
    "# set.pop()是从 set 中任意选一个元素,删除并将这个值返回.但是,不能指定删除某个元素.\n",
    "# set.remove(obj) 删除指定元素，其中的 obj,必须是 set 中的元素\n",
    "# discard(obj)中的 obj 如果是 set 中的元素,就删除,如果不是,就什么也不做\n",
    "# set.clear(),它的功能是:Remove all elements from this set."
   ]
  },
  {
   "cell_type": "code",
   "execution_count": null,
   "metadata": {},
   "outputs": [],
   "source": [
    "# frozenset()创建不能修改的集合，hashable 类型\n",
    "f_set = frozenset(\"Aya010\")\n",
    "#f_set.add(\"python\")     #报错，不能修改，则无此方法\n",
    "a_set = set(\"github\")\n",
    "a_set.add(\"python\")     #能修改\n"
   ]
  },
  {
   "cell_type": "code",
   "execution_count": 17,
   "metadata": {
    "tags": []
   },
   "outputs": [
    {
     "output_type": "stream",
     "name": "stdout",
     "text": "{'h', 'g', 'i', 'p', 'o', 'b', 'n', 'u', 'y', 't'}\n{'h', 't'}\n{'b', 'g', 'i', 'u'}\n"
    }
   ],
   "source": [
    "# 集合运算\n",
    "# 元素与集合的关系 ： 属于 or 不属于 （in）\n",
    "# 集合与集合的关系 ：1 A 是否等于 B，即两个集合的元素完全一样 ( == )\n",
    "a_set = set(\"github\")\n",
    "b_set = set(\"python\")\n",
    "a_set == b_set\n",
    "# 集合与集合的关系 ：2 A 是否是 B 的子集，或者反过来，B 是否是 A 的超集。即 A 的元素也都是 B 的元素，但是 B 的元素比 A 的元素数量多。  A.issubset(B) or  <\n",
    "a_set.issubset(b_set)\n",
    "a_set < b_set\n",
    "# 集合与集合的关系 ：3 A、B 的并集，即 A、B 所有元素  A | B or A.union(B)\n",
    "c_set = a_set | b_set\n",
    "print(c_set)\n",
    "# 集合与集合的关系 ：4 A、B 的交集，即 A、B 所公有的元素 A & B or A.intersection(B)\n",
    "d_set = a_set & b_set\n",
    "print(d_set)\n",
    "# 集合与集合的关系 ：5 A 相对 B 的差（补），即 A 相对 B 不同的部分元素 A - B or A.symmetric_difference(B)\n",
    "e_set = a_set - b_set\n",
    "print(e_set)"
   ]
  }
 ],
 "metadata": {
  "language_info": {
   "codemirror_mode": {
    "name": "ipython",
    "version": 3
   },
   "file_extension": ".py",
   "mimetype": "text/x-python",
   "name": "python",
   "nbconvert_exporter": "python",
   "pygments_lexer": "ipython3",
   "version": "3.7.6-final"
  },
  "orig_nbformat": 2,
  "kernelspec": {
   "name": "python3",
   "display_name": "Python 3"
  }
 },
 "nbformat": 4,
 "nbformat_minor": 2
}