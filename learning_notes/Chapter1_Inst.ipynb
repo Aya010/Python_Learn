{
 "cells": [
  {
   "cell_type": "code",
   "execution_count": 67,
   "metadata": {
    "tags": []
   },
   "outputs": [
    {
     "output_type": "stream",
     "name": "stdout",
     "text": "1\n2\n3\n4\n5\n6\n"
    }
   ],
   "source": [
    "# for 语句\n",
    "# i 自动加一\n",
    "   \n",
    "for i in [1,2,3,4,5,6]:\n",
    "    print(i)\n"
   ]
  },
  {
   "cell_type": "code",
   "execution_count": 68,
   "metadata": {},
   "outputs": [],
   "source": [
    "# 引用模块 import\n",
    "import math\n",
    "math.pow(3,3)\n",
    "# 引用某个函数\n",
    "from math import pow\n",
    "# 引用某个函数并重命名\n",
    "from math import pow as pingfang\n",
    "pingfang(3,3)\n",
    "# 引用多个函数\n",
    "from math import pow, e, pi"
   ]
  },
  {
   "cell_type": "code",
   "execution_count": 69,
   "metadata": {
    "tags": []
   },
   "outputs": [
    {
     "output_type": "stream",
     "name": "stdout",
     "text": "2 \n 1\nI use python\nI use python\n"
    }
   ],
   "source": [
    "# 交换赋值\n",
    "a = 1\n",
    "b = 2\n",
    "a, b = b, a\n",
    "print(a,\"\\n\",b)\n",
    "# 链式赋值\n",
    "m = n = \"I use python\"\n",
    "print(m+\"\\n\"+n)"
   ]
  },
  {
   "cell_type": "code",
   "execution_count": 70,
   "metadata": {
    "tags": []
   },
   "outputs": [
    {
     "output_type": "stream",
     "name": "stdout",
     "text": "else\n"
    }
   ],
   "source": [
    "# 条件语句\n",
    "a = input()\n",
    "if a == \"1\":\n",
    "    print (a)\n",
    "elif a == \"0\":\n",
    "        print (\"a == 0\")\n",
    "else :\n",
    "        print(\"else\")\n",
    "# 顶格写\n",
    "\n"
   ]
  },
  {
   "cell_type": "code",
   "execution_count": 71,
   "metadata": {},
   "outputs": [
    {
     "output_type": "execute_result",
     "data": {
      "text/plain": "'LyL010'"
     },
     "metadata": {},
     "execution_count": 71
    }
   ],
   "source": [
    "# 三元操作符 A = Y if X else Z \n",
    "# X为真，A = Y， 否则 A = Z\n",
    "name = \"LyL010\" if \"key\" else \"Aya010\"\n",
    "name"
   ]
  },
  {
   "cell_type": "code",
   "execution_count": 72,
   "metadata": {
    "tags": []
   },
   "outputs": [
    {
     "output_type": "stream",
     "name": "stdout",
     "text": "w\no\nr\nl\nd\nw\no\nr\nl\nd\nHello\nI am Aya010\nWelcome you\n\n"
    }
   ],
   "source": [
    "# 循环 for\n",
    "# for 循环规则：\n",
    "#     操作语句\n",
    "# 循环规则可以为 str, list, set, tuple, dict\n",
    "hello = \"world\"\n",
    "for i in hello:\n",
    "    print (i)\n",
    "# 过使用索引（偏移量），得到序列对象的某个元素。\n",
    "# range(len(hello),就是 range(5),也就是[0, 1, 2, 3, 4],对应这\"world\"每个字母索引，称之为偏移量。\n",
    "for i in range(len(hello)):\n",
    "    print (hello[i])\n",
    "ls_line = ['Hello', 'I am Aya010', 'Welcome you', '']\n",
    "for word in ls_line:\n",
    "     print (word)"
   ]
  },
  {
   "cell_type": "code",
   "execution_count": 73,
   "metadata": {},
   "outputs": [
    {
     "output_type": "execute_result",
     "data": {
      "text/plain": "range(0, 9, 2)"
     },
     "metadata": {},
     "execution_count": 73
    }
   ],
   "source": [
    "# range(start,stop[, step])\n",
    "# 常用于循环，生成数字元素序列（列表）\n",
    "# 这个函数可以创建一个数字元素组成的列表。\n",
    "# 这个函数最常用于 for 循环\n",
    "# 函数的参数必须是整数，默认从 0 开始。返回值是类似[start, start + step, start + 2*step, ...]的列表。\n",
    "# step 默认值是 1。如果不写，就是按照此值。\n",
    "# 如果 step 是正数，返回 list 的最后的值不包含 stop 值，即 start+istep 这个值小于 stop；如果 step 是负数，start+istep 的值大于 stop。\n",
    "# step 不能等于零，如果等于零，就报错。\n",
    "range(0,9,2)"
   ]
  },
  {
   "cell_type": "code",
   "execution_count": 74,
   "metadata": {},
   "outputs": [
    {
     "output_type": "execute_result",
     "data": {
      "text/plain": "[('name', 'python'), ('lang', 'qiwsir')]"
     },
     "metadata": {},
     "execution_count": 74
    }
   ],
   "source": [
    "# zip（） 将不同序列的对应元素组合为元组\n",
    "m = {\"name\",\"lang\"}  \n",
    "n = {\"qiwsir\",\"python\"}\n",
    "zip(m,n) # 出现结果<zip at 0x22973774108>，表示可迭代，使用list显示内容\n",
    "list(zip(m,n))"
   ]
  },
  {
   "cell_type": "code",
   "execution_count": 75,
   "metadata": {
    "tags": []
   },
   "outputs": [
    {
     "output_type": "stream",
     "name": "stdout",
     "text": "['Do', 'you', 'love', 'PHP?', 'PHP', 'is', 'a', 'good', 'teacher.']\nDo you love PHP? PHP is a good teacher.\n"
    }
   ],
   "source": [
    "# enumerate() 将序列元素与其对应序号组合为元组\n",
    "# help(enumerate)\n",
    "seasons = ['Spring', 'Summer', 'Fall', 'Winter']\n",
    "list(enumerate(seasons))\n",
    "# ex 将字符串中的某些字符替换为其它的字符串。原始字符串\"Do you love Canglaoshi? Canglaoshi is a good teacher.\"，请将\"Canglaoshi\"替换为\"PHP\".\n",
    "ori = \"Do you love Canglaoshi? Canglaoshi is a good teacher.\"\n",
    "enumerate(ori)\n",
    "ori_lst = ori.split(\" \")\n",
    "for i, string in enumerate(ori_lst):\n",
    "    if \"Canglaoshi\" in string:\n",
    "        if \"Canglaoshi\" < string :\n",
    "            ori_lst[i] = \"PHP?\"\n",
    "        else :\n",
    "            ori_lst[i] = \"PHP\"\n",
    "print(ori_lst)\n",
    "new = \" \".join(ori_lst) # 拼接\n",
    "print (new)"
   ]
  },
  {
   "cell_type": "code",
   "execution_count": 76,
   "metadata": {
    "tags": []
   },
   "outputs": [
    {
     "output_type": "stream",
     "name": "stdout",
     "text": "[1, 4, 9, 16, 25, 36, 49, 64, 81]\n[1, 4, 9, 16, 25, 36, 49, 64, 81]\n"
    },
    {
     "output_type": "execute_result",
     "data": {
      "text/plain": "['glass', 'apple', 'green leaf']"
     },
     "metadata": {},
     "execution_count": 76
    }
   ],
   "source": [
    "# list 解析\n",
    "# ex\n",
    "power2 = []\n",
    "for i in range(1,10):\n",
    "    power2.append(i*i)\n",
    "print(power2)\n",
    "# list 解析做法\n",
    "squares = [x**2 for x in range(1,10)]\n",
    "print(squares)\n",
    "\n",
    "mybag = [' glass',' apple','green leaf ']   #有的前面有空格，有的后面有空格\n",
    "[o.strip() for o in mybag]              #去掉元素前后的空格\n"
   ]
  },
  {
   "cell_type": "code",
   "execution_count": 84,
   "metadata": {
    "tags": []
   },
   "outputs": [
    {
     "output_type": "stream",
     "name": "stdout",
     "text": "********************************\n您猜大了!\n 哈哈,正确答案是:4\n 您还有 3 次机会！\n********************************\n********************************\n您猜大了!\n 哈哈,正确答案是:1\n 您还有 2 次机会！\n********************************\n********************************\n您猜小了!\n 哈哈,正确答案是:4\n 您还有 1 次机会！\n********************************\n********************************\n运气真好,您猜对了！\n"
    }
   ],
   "source": [
    "# while 循环\n",
    "#coding:UTF-8 \n",
    "\n",
    "import random\n",
    "\n",
    "i=0\n",
    "while i < 4:\n",
    "    print('********************************')\n",
    "    num = input('请您输入 0 到 9 任一个数：')       #李同学用的是 Python3\n",
    "    xnum = str(random.randint(0,9))\n",
    "    x = 3 - i\n",
    "    if num == xnum:\n",
    "        print('运气真好,您猜对了！')\n",
    "        break\n",
    "    elif num > xnum:\n",
    "        print('您猜大了!\\n 哈哈,正确答案是:%s\\n 您还有 %s 次机会！' %(xnum,x) )\n",
    "    elif num < xnum:\n",
    "        print('您猜小了!\\n 哈哈,正确答案是:%s\\n 您还有 %s 次机会！' %(xnum,x))\n",
    "    print('********************************')\n",
    "    i += 1\n"
   ]
  }
 ],
 "metadata": {
  "language_info": {
   "codemirror_mode": {
    "name": "ipython",
    "version": 3
   },
   "file_extension": ".py",
   "mimetype": "text/x-python",
   "name": "python",
   "nbconvert_exporter": "python",
   "pygments_lexer": "ipython3",
   "version": "3.7.6-final"
  },
  "orig_nbformat": 2,
  "kernelspec": {
   "name": "python3",
   "display_name": "Python 3"
  }
 },
 "nbformat": 4,
 "nbformat_minor": 2
}