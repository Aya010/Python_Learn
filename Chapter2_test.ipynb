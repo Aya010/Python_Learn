{
 "cells": [
  {
   "cell_type": "code",
   "execution_count": 1,
   "metadata": {
    "tags": []
   },
   "outputs": [
    {
     "output_type": "stream",
     "name": "stdout",
     "text": "[1, 2, 3, 4, 5, 6, 7, 8, 9, 0]\n[2, 3, 4, 5, 6, 7, 8, 9, 0, 1]\n"
    }
   ],
   "source": [
    "# 1 有一个列表，其中包括 10 个元素，例如这个列表是[1,2,3,4,5,6,7,8,9,0],要求将列表中的每个元素一次向前移动一个位置，第一个元素到列表的最后，然后输出这个列表。最终样式是[2,3,4,5,6,7,8,9,0,1]\n",
    "raw = [1,2,3,4,5,6,7,8,9,0]\n",
    "print (raw)\n",
    "b = raw.pop(0)\n",
    "raw.append(b)\n",
    "print (raw)"
   ]
  },
  {
   "cell_type": "code",
   "execution_count": 20,
   "metadata": {
    "tags": []
   },
   "outputs": [
    {
     "output_type": "stream",
     "name": "stdout",
     "text": "平均分为49.58 \n低于平均分的人数为21 \n[100, 99, 98, 98, 97, 97, 90, 89, 86, 80, 74, 73, 68, 65, 65, 58, 57, 52, 50, 49, 46, 46, 41, 40, 39, 35, 35, 34, 32, 21, 17, 11, 10, 8, 8, 8, 4, 3, 0, 0]\n"
    }
   ],
   "source": [
    "# 2 (1)产生一个列表，其中有 40 个元素，每个元素是 0 到 100 的一个随机整数.(2)如果这个列表中的数据代表着某个班级 40 人的分数，请计算成绩低于平均分的学生人数，并输出 (3)对上面的列表元素从大到小排序\n",
    "import random\n",
    "#dir(random)\n",
    "score = [random.randint(0,100) for i in range(40)]\n",
    "sum_scr = 0\n",
    "num = 0\n",
    "for i in range(len(score)):\n",
    "    sum_scr += score[i]\n",
    "ave_scr = sum_scr / len(score)\n",
    "for i in range(len(score)):\n",
    "    if score[i] <  ave_scr :\n",
    "        num += 1\n",
    "print(\"平均分为%.2f \\n低于平均分的人数为%d \" % (ave_scr,num))\n",
    "sorted_score = sorted(score, reverse=True)#对原列表排序\n",
    "print(sorted_score)\n",
    "\n",
    "#sum_score = sum(score)               #对列表中的整数求和\n",
    "#ave_num = sum_score/num              #计算平均数\n",
    "###########列表解析##################\n",
    "#less_ave = len([i for i in score if i<ave_num])  #将小于平均数的找出来，组成新的列表，并度量该列表的长度\n",
    "#####################################"
   ]
  },
  {
   "cell_type": "code",
   "execution_count": 26,
   "metadata": {
    "tags": []
   },
   "outputs": [
    {
     "output_type": "stream",
     "name": "stdout",
     "text": "['I', 'love', 'code.']\nI love  code.\nI love code.\n"
    }
   ],
   "source": [
    "# 3 如果将一句话作为一个字符串，那么这个字符串中必然会有空格（这里仅讨论英文），比如\"How are you.\"，但有的时候，会在两个单词之间多大一个空格。现在的任务是，如果一个字符串中有连续的两个空格，请把它删除。\n",
    "string = \"I love  code.\"\n",
    "str_lst = string.split(\" \")\n",
    "#words = [s.strip() for s in str_lst]    #去除单词两边的空格X\n",
    "words = [s for s in str_lst if s!=\"\"]    #利用列表解析，将空格检出\n",
    "print (words)\n",
    "new_string = \" \".join(words)\n",
    "print(string + \"\\n\" + new_string)"
   ]
  },
  {
   "cell_type": "code",
   "execution_count": 31,
   "metadata": {
    "tags": []
   },
   "outputs": [
    {
     "output_type": "stream",
     "name": "stdout",
     "text": "354224848179261915075\n"
    }
   ],
   "source": [
    "# 4 斐波那契数列\n",
    "a, b = 0, 1\n",
    "for i in range(100):    #改变这里的数，就能得到相应项的结果\n",
    "    a, b = b, a+b\n",
    "print (a)"
   ]
  }
 ],
 "metadata": {
  "language_info": {
   "codemirror_mode": {
    "name": "ipython",
    "version": 3
   },
   "file_extension": ".py",
   "mimetype": "text/x-python",
   "name": "python",
   "nbconvert_exporter": "python",
   "pygments_lexer": "ipython3",
   "version": "3.7.6-final"
  },
  "orig_nbformat": 2,
  "kernelspec": {
   "name": "python3",
   "display_name": "Python 3"
  }
 },
 "nbformat": 4,
 "nbformat_minor": 2
}