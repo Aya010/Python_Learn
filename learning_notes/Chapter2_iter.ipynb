{
 "cells": [
  {
   "cell_type": "markdown",
   "metadata": {},
   "source": [
    "循环（loop），指的是在满足条件的情况下，重复执行同一段代码。比如，while 语句。\n",
    "\n",
    "迭代（iterate），指的是按照某种顺序逐个访问列表中的每一项。比如，for 语句。\n",
    "\n",
    "递归（recursion），指的是一个函数不断调用自身的行为。比如，以编程方式输出著名的斐波纳契数列。\n",
    "\n",
    "遍历（traversal），指的是按照一定的规则访问树形结构中的每个节点，而且每个节点都只访问一次。"
   ]
  },
  {
   "cell_type": "code",
   "execution_count": 2,
   "metadata": {
    "tags": []
   },
   "outputs": [
    {
     "output_type": "stream",
     "name": "stdout",
     "text": "A\ny\na\n0\n1\n0\n"
    }
   ],
   "source": [
    "lst = ['A', 'y', 'a', '0', '1', '0']\n",
    ">>> for i in lst:\n",
    "...     print (i),"
   ]
  },
  {
   "cell_type": "code",
   "execution_count": 4,
   "metadata": {},
   "outputs": [
    {
     "output_type": "execute_result",
     "data": {
      "text/plain": "['__call__',\n '__class__',\n '__delattr__',\n '__dir__',\n '__doc__',\n '__eq__',\n '__format__',\n '__ge__',\n '__getattribute__',\n '__gt__',\n '__hash__',\n '__init__',\n '__init_subclass__',\n '__le__',\n '__lt__',\n '__module__',\n '__name__',\n '__ne__',\n '__new__',\n '__qualname__',\n '__reduce__',\n '__reduce_ex__',\n '__repr__',\n '__self__',\n '__setattr__',\n '__sizeof__',\n '__str__',\n '__subclasshook__',\n '__text_signature__']"
     },
     "metadata": {},
     "execution_count": 4
    }
   ],
   "source": [
    "lst_iter = iter(lst)    #对原来的 list 实施了一个 iter()\n",
    "#lst_iter.next()         #要不厌其烦地一个一个手动访问\n",
    "dir(iter) #在Python 3 中删除"
   ]
  }
 ],
 "metadata": {
  "language_info": {
   "codemirror_mode": {
    "name": "ipython",
    "version": 3
   },
   "file_extension": ".py",
   "mimetype": "text/x-python",
   "name": "python",
   "nbconvert_exporter": "python",
   "pygments_lexer": "ipython3",
   "version": "3.7.6-final"
  },
  "orig_nbformat": 2,
  "kernelspec": {
   "name": "python3",
   "display_name": "Python 3"
  }
 },
 "nbformat": 4,
 "nbformat_minor": 2
}