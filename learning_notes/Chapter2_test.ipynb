{
 "cells": [
  {
   "cell_type": "code",
   "execution_count": 1,
   "metadata": {
    "tags": []
   },
   "outputs": [
    {
     "output_type": "stream",
     "name": "stdout",
     "text": "[1, 2, 3, 4, 5, 6, 7, 8, 9, 0]\n[2, 3, 4, 5, 6, 7, 8, 9, 0, 1]\n"
    }
   ],
   "source": [
    "# 1 有一个列表，其中包括 10 个元素，例如这个列表是[1,2,3,4,5,6,7,8,9,0],要求将列表中的每个元素一次向前移动一个位置，第一个元素到列表的最后，然后输出这个列表。最终样式是[2,3,4,5,6,7,8,9,0,1]\n",
    "raw = [1,2,3,4,5,6,7,8,9,0]\n",
    "print (raw)\n",
    "b = raw.pop(0)\n",
    "raw.append(b)\n",
    "print (raw)"
   ]
  },
  {
   "cell_type": "code",
   "execution_count": 19,
   "metadata": {
    "tags": []
   },
   "outputs": [
    {
     "output_type": "stream",
     "name": "stdout",
     "text": "平均分为52.75 \n低于平均分的人数为18 \n[97, 96, 94, 93, 92, 88, 87, 86, 85, 84, 84, 83, 82, 82, 78, 74, 72, 72, 68, 66, 62, 59, 58, 56, 56, 55, 53, 53, 49, 31, 29, 23, 20, 20, 11, 11, 6, 6, 4, 1]\n"
    }
   ],
   "source": [
    "# 2 (1)产生一个列表，其中有 40 个元素，每个元素是 0 到 100 的一个随机整数.(2)如果这个列表中的数据代表着某个班级 40 人的分数，请计算成绩低于平均分的学生人数，并输出 (3)对上面的列表元素从大到小排序\n",
    "import random\n",
    "#dir(random)\n",
    "\n",
    "#MAX_SCORE = 100\n",
    "TOTAL_NUM = 40\n",
    "#sum_scr = 0\n",
    "#num = 0\n",
    "\n",
    "def create_scores(total_num, max_score = 100):\n",
    "    return [random.randint(0,max_score) for i in range(total_num)]\n",
    "\n",
    "def filter_under_average(input_list):\n",
    "    num = len(input_list)\n",
    "    sum_up = sum(input_list) * 1.0\n",
    "    average = sum_up / num\n",
    "    return [x for x in input_list if x<average]\n",
    "\n",
    "#scores = [random.randint(0,MAX_SCORE) for i in range(TOTAL_NUM)]\n",
    "scores = create_scores(TOTAL_NUM)\n",
    "\n",
    "num_under_ave = len(filter_under_average(scores))\n",
    "#sum_score = sum(scores)\n",
    "#for i in range(TOTAL_NUM):\n",
    "#    sum_scr += scores[i] * 1.0      #   转换为浮点型\n",
    "#ave_scr = sum_scr / TOTAL_NUM\n",
    "\n",
    "#for i in range(len(scores)):\n",
    "#    if scores[i] <  ave_scr :\n",
    "#        num += 1\n",
    "#ave_scr = sum_score / TOTAL_NUM              #计算平均数\n",
    "\n",
    "ascending = True\n",
    "sorted_score = sorted(scores, reverse=ascending)#对原列表排序\n",
    "\n",
    "#num_under_ave = len([x for x in scores if x < ave_scr])\n",
    "\n",
    "print(\"平均分为%.2f \\n低于平均分的人数为%d \" % (ave_scr,num_under_ave))\n",
    "print(sorted_score)\n",
    "\n",
    "#sum_score = sum(score)               #对列表中的整数求和\n",
    "#ave_num = sum_score/num              #计算平均数\n",
    "###########列表解析##################\n",
    "#less_ave = len([x for x in score if x<ave_num])  #将小于平均数的找出来，组成新的列表，并度量该列表的长度\n",
    "#####################################"
   ]
  },
  {
   "cell_type": "code",
   "execution_count": 26,
   "metadata": {
    "tags": []
   },
   "outputs": [
    {
     "output_type": "stream",
     "name": "stdout",
     "text": "['I', 'love', 'code.']\nI love  code.\nI love code.\n"
    }
   ],
   "source": [
    "# 3 如果将一句话作为一个字符串，那么这个字符串中必然会有空格（这里仅讨论英文），比如\"How are you.\"，但有的时候，会在两个单词之间多大一个空格。现在的任务是，如果一个字符串中有连续的两个空格，请把它删除。\n",
    "string = \"I love  code.\"\n",
    "str_lst = string.split(\" \")\n",
    "#words = [s.strip() for s in str_lst]    #去除单词两边的空格X\n",
    "words = [s for s in str_lst if s!=\"\"]    #利用列表解析，将空格检出\n",
    "print (words)\n",
    "new_string = \" \".join(words)\n",
    "print(string + \"\\n\" + new_string)"
   ]
  },
  {
   "cell_type": "code",
   "execution_count": 31,
   "metadata": {
    "tags": []
   },
   "outputs": [
    {
     "output_type": "stream",
     "name": "stdout",
     "text": "354224848179261915075\n"
    }
   ],
   "source": [
    "# 4 斐波那契数列\n",
    "a, b = 0, 1\n",
    "for i in range(100):    #改变这里的数，就能得到相应项的结果\n",
    "    a, b = b, a+b\n",
    "print (a)"
   ]
  }
 ],
 "metadata": {
  "language_info": {
   "codemirror_mode": {
    "name": "ipython",
    "version": 3
   },
   "file_extension": ".py",
   "mimetype": "text/x-python",
   "name": "python",
   "nbconvert_exporter": "python",
   "pygments_lexer": "ipython3",
   "version": "3.7.6-final"
  },
  "orig_nbformat": 2,
  "kernelspec": {
   "name": "python3",
   "display_name": "Python 3"
  }
 },
 "nbformat": 4,
 "nbformat_minor": 2
}