{
 "cells": [
  {
   "cell_type": "code",
   "execution_count": 10,
   "metadata": {
    "tags": []
   },
   "outputs": [
    {
     "output_type": "stream",
     "name": "stdout",
     "text": "15 years\nHow are you? Are you 22 years old?\nToday's temperature is +12.22\n"
    }
   ],
   "source": [
    "# 字符串格式化输出 1 \n",
    "a = \"%d years\" % 15\n",
    "print (a)\n",
    "b = \"How are %s? Are you %d years old?\" % (\"you\",22)\n",
    "print(b)\n",
    "c = \"Today's temperature is %+.2f\" %12.223\n",
    "print(c)"
   ]
  },
  {
   "cell_type": "code",
   "execution_count": 14,
   "metadata": {
    "tags": []
   },
   "outputs": [
    {
     "output_type": "stream",
     "name": "stdout",
     "text": "I like Pythom\nSuzhou is more than 2500 years. who lives in here.\n"
    }
   ],
   "source": [
    "# 字符串格式化输出 2 \n",
    "s1 = \"I like {}\".format(\"Pythom\")\n",
    "#Python 常用形式string.format(, , ,)\n",
    "s2 = \"Suzhou is more than {year} years. {name} lives in here.\".format(year=2500, name=\"who\")\n",
    "print(s1+\"\\n\"+s2)"
   ]
  },
  {
   "cell_type": "code",
   "execution_count": 32,
   "metadata": {},
   "outputs": [
    {
     "output_type": "execute_result",
     "data": {
      "text/plain": "\"Today's.temperature.is.+12.22\""
     },
     "metadata": {},
     "execution_count": 32
    }
   ],
   "source": [
    "# 字符串常用函数\n",
    "s3 = \" pyt hon \"\n",
    "#\"python\".isalpha() # 判断字符串是否全为字母，返回布尔值\n",
    "s4 = c.split(\" \") # 按字符分割字符串，返回list\n",
    "#s3.strip() #去掉字符串的左右空格\n",
    "#s3.lstrip() #去掉字符串的左边空格\n",
    "#s3.rstrip() #去掉字符串的右边空格\n",
    "#s3.upper() #str 中的字母大写\n",
    "#s3.lower() #str 中的字母小写\n",
    "#s3.capitalize() # 首字母大写\n",
    "#s3.isupper() #str 中的字母是否全是大写\n",
    "#s3.islower() #str 中的字母是否全是小写\n",
    "#s3.istitle() #str 是否是标题格式（所有单词首字母大写）\n",
    "\" \".join(s4) # 拼接\n",
    "\".\".join(s4) # 拼接"
   ]
  },
  {
   "cell_type": "code",
   "execution_count": 16,
   "metadata": {},
   "outputs": [
    {
     "output_type": "execute_result",
     "data": {
      "text/plain": "['__add__',\n '__class__',\n '__contains__',\n '__delattr__',\n '__dir__',\n '__doc__',\n '__eq__',\n '__format__',\n '__ge__',\n '__getattribute__',\n '__getitem__',\n '__getnewargs__',\n '__gt__',\n '__hash__',\n '__init__',\n '__init_subclass__',\n '__iter__',\n '__le__',\n '__len__',\n '__lt__',\n '__mod__',\n '__mul__',\n '__ne__',\n '__new__',\n '__reduce__',\n '__reduce_ex__',\n '__repr__',\n '__rmod__',\n '__rmul__',\n '__setattr__',\n '__sizeof__',\n '__str__',\n '__subclasshook__',\n 'capitalize',\n 'casefold',\n 'center',\n 'count',\n 'encode',\n 'endswith',\n 'expandtabs',\n 'find',\n 'format',\n 'format_map',\n 'index',\n 'isalnum',\n 'isalpha',\n 'isascii',\n 'isdecimal',\n 'isdigit',\n 'isidentifier',\n 'islower',\n 'isnumeric',\n 'isprintable',\n 'isspace',\n 'istitle',\n 'isupper',\n 'join',\n 'ljust',\n 'lower',\n 'lstrip',\n 'maketrans',\n 'partition',\n 'replace',\n 'rfind',\n 'rindex',\n 'rjust',\n 'rpartition',\n 'rsplit',\n 'rstrip',\n 'split',\n 'splitlines',\n 'startswith',\n 'strip',\n 'swapcase',\n 'title',\n 'translate',\n 'upper',\n 'zfill']"
     },
     "metadata": {},
     "execution_count": 16
    }
   ],
   "source": [
    "dir(str)"
   ]
  }
 ],
 "metadata": {
  "language_info": {
   "codemirror_mode": {
    "name": "ipython",
    "version": 3
   },
   "file_extension": ".py",
   "mimetype": "text/x-python",
   "name": "python",
   "nbconvert_exporter": "python",
   "pygments_lexer": "ipython3",
   "version": "3.7.6-final"
  },
  "orig_nbformat": 2,
  "kernelspec": {
   "name": "python3",
   "display_name": "Python 3"
  }
 },
 "nbformat": 4,
 "nbformat_minor": 2
}