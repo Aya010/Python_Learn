{
 "cells": [
  {
   "cell_type": "code",
   "execution_count": 7,
   "metadata": {
    "tags": []
   },
   "outputs": [
    {
     "output_type": "stream",
     "name": "stdout",
     "text": "5\n"
    }
   ],
   "source": [
    "# 建立函数\n",
    "def add_function(a,b):\n",
    "    c = a + b\n",
    "    print (c)\n",
    "if __name__ == \"__main__\":\n",
    "    add_function(2,3)"
   ]
  },
  {
   "cell_type": "markdown",
   "metadata": {},
   "source": [
    "def add_function(a,b): 这里是函数的开始。在声明要建立一个函数的时候，一定要使用 def（def 就是英文 define 的前三个字母），意思就是告知计算机，这里要声明一个函数；add_function 是这个函数名称，取名字是有讲究的，就好比你的名字一样。在 Python 中取名字的讲究就是要有一定意义，能够从名字中看出这个函数是用来干什么的。从 add_function 这个名字中，是不是看出她是用来计算加法的呢（严格地说，是把两个对象“相加”，这里相加的含义是比较宽泛的，包括对字符串等相加）？(a,b)这个括号里面的是这个函数的参数，也就是函数变量。冒号，这个冒号非常非常重要，如果少了，就报错了。冒号的意思就是下面好开始真正的函数内容了。\n",
    "\n",
    "c=a+b 特别注意，这一行比上一行要缩进四个空格。这是 Python 的规定，要牢记，不可丢掉，丢了就报错。然后这句话就是将两个参数(变量)相加，结果赋值与另外一个变量 c。\n",
    "\n",
    "print c 还是提醒看官注意，缩进四个空格。将得到的结果 c 的值打印出来。\n",
    "\n",
    "if __name__==\"__main__\": 这句话先照抄，不解释，因为在《自省》有说明，不知道你是不是认真阅读了。注意就是不缩进了。\n",
    "\n",
    "模块拥有名称，Python 解释器本身被认为是顶级模块或主模块。当以交互的方式运行 Python 时，局部 __name__ 变量被赋予值 '__main__' 。同样地，当从命令行执行 Python 模块，而不是将其导入另一个模块时，其 __name__ 属性被赋予值 '__main__' ，而不是该模块的实际名称。这样，模块可以查看其自身的 __name__ 值来自行确定它们自己正被如何使用，是作为另一个程序的支持，还是作为从命令行执行的主应用程序。因此，下面这条惯用的语句在 Python 模块中是很常见的：\n",
    "\n"
   ]
  },
  {
   "cell_type": "markdown",
   "metadata": {},
   "source": [
    "# 函数格式\n",
    "\n",
    "def 函数名(参数 1，参数 2，...，参数 n)：\n",
    "\n",
    "    函数体（语句块）\n",
    "\n",
    "函数名的命名规则要符合 Python 中的命名要求。一般用小写字母和单下划线、数字等组合\n",
    "\n",
    "def 是定义函数的关键词，这个简写来自英文单词 define\n",
    "\n",
    "函数名后面是圆括号，括号里面，可以有参数列表，也可以没有参数\n",
    "千万不要忘记了括号后面的冒号\n",
    "\n",
    "函数体（语句块），相对于 def 缩进，按照 Python 习惯，缩进四个空格"
   ]
  },
  {
   "cell_type": "code",
   "execution_count": 10,
   "metadata": {},
   "outputs": [],
   "source": [
    "def add(x,y):       #为了能够更明了显示参数赋值特点，重写此函数\n",
    "        print (\"x=\",x)    #分别打印参数赋值结果\n",
    "        print (\"y=\",y)\n",
    "        return x+y"
   ]
  },
  {
   "cell_type": "code",
   "execution_count": 14,
   "metadata": {},
   "outputs": [],
   "source": [
    "def times(x,y=2):       #y的默认值为 2\n",
    "...     print (\"x=\",x)\n",
    "...     print (\"y=\",y)\n",
    "...     return x*y"
   ]
  },
  {
   "cell_type": "code",
   "execution_count": 20,
   "metadata": {
    "tags": []
   },
   "outputs": [
    {
     "output_type": "stream",
     "name": "stdout",
     "text": "[0, 1, 1, 2, 3, 5, 8, 13, 21, 34]\n"
    }
   ],
   "source": [
    "# 函数文档 \n",
    "# 三个引号的方式，包裹着对这个函数的说明，那个就是函数文档。\n",
    "def fibs(n):\n",
    "    \"\"\"\n",
    "    This is a Fibonacci sequence.\n",
    "    \"\"\"\n",
    "    result = [0,1]\n",
    "    for i in range(n-2):\n",
    "        result.append(result[-2] + result[-1])\n",
    "    return result\n",
    "\n",
    "if __name__ == \"__main__\":\n",
    "    lst = fibs(10)\n",
    "    print (lst)\n",
    "    "
   ]
  },
  {
   "cell_type": "code",
   "execution_count": 21,
   "metadata": {
    "tags": []
   },
   "outputs": [
    {
     "output_type": "stream",
     "name": "stdout",
     "text": "13\nx= 3\ny= 10\nx= 3\ny= 10\nx= 3\ny= 2\nx= 3\ny= 2\n"
    },
    {
     "output_type": "execute_result",
     "data": {
      "text/plain": "'\\n    This is a Fibonacci sequence.\\n    '"
     },
     "metadata": {},
     "execution_count": 21
    }
   ],
   "source": [
    "add_function(10,3)\n",
    "add(3,10)\n",
    "add(y=10,x=3)\n",
    "times(3)\n",
    "times(x=3)\n",
    "fibs.__doc__"
   ]
  },
  {
   "cell_type": "code",
   "execution_count": 23,
   "metadata": {
    "tags": []
   },
   "outputs": [
    {
     "output_type": "stream",
     "name": "stdout",
     "text": "1\n(2, 3, 4, 5, 6, 7, 8, 9)\n45\n"
    }
   ],
   "source": [
    "# 参数收集 \n",
    "# 函数的参数的个数的不确定性 \n",
    "# 加 * ，用元组收集后续所有参数\n",
    "def func(x,*arg):\n",
    "    print (x)         #输出参数 x 的值\n",
    "    result = x\n",
    "    print (arg)       #输出通过 *arg 方式得到的值\n",
    "    for i in arg:\n",
    "        result +=i\n",
    "    return result\n",
    "\n",
    "print (func(1,2,3,4,5,6,7,8,9))    #赋给函数的参数个数不仅仅是  2个\n"
   ]
  },
  {
   "cell_type": "code",
   "execution_count": 27,
   "metadata": {
    "tags": []
   },
   "outputs": [
    {
     "output_type": "stream",
     "name": "stdout",
     "text": "{'a': 1, 'b': 2, 'c': 3}\n"
    }
   ],
   "source": [
    "# 参数收集 \n",
    "# 函数的参数的个数的不确定性 \n",
    "# 加 ** ，用字典收集后续所有参数\n",
    "# 必须同时包含key 和 value\n",
    "def foo(**kargs):\n",
    "        print (kargs)\n",
    "if __name__ == \"__main__\":\n",
    "    foo(a=1,b=2,c=3)"
   ]
  },
  {
   "cell_type": "code",
   "execution_count": 28,
   "metadata": {
    "tags": []
   },
   "outputs": [
    {
     "output_type": "stream",
     "name": "stdout",
     "text": "1\n2\n3\n(4, 5)\n{'name': 'qiwsir'}\n"
    }
   ],
   "source": [
    "# 参数收集 \n",
    "# 函数的参数的个数的不确定性 \n",
    "# 综合* 和 ** \n",
    "def foo(x,y,z,*args,**kargs):\n",
    "        print (x) \n",
    "        print (y)\n",
    "        print (z)\n",
    "        print (args)\n",
    "        print (kargs)  \n",
    "foo(1,2,3,4,5,name=\"qiwsir\") "
   ]
  },
  {
   "cell_type": "code",
   "execution_count": 29,
   "metadata": {
    "tags": []
   },
   "outputs": [
    {
     "output_type": "stream",
     "name": "stdout",
     "text": "x= 2\ny= 3\n"
    },
    {
     "output_type": "execute_result",
     "data": {
      "text/plain": "5"
     },
     "metadata": {},
     "execution_count": 29
    }
   ],
   "source": [
    "# 元组方式传值 *bars\n",
    "# 元组内元素数量必须与要求变量格式一致\n",
    "bars = (2,3)\n",
    "add(*bars)"
   ]
  },
  {
   "cell_type": "code",
   "execution_count": 32,
   "metadata": {
    "tags": []
   },
   "outputs": [
    {
     "output_type": "stream",
     "name": "stdout",
     "text": "Kivi is writing Starter learning Python\n"
    }
   ],
   "source": [
    "# 字典方式传值\n",
    "\n",
    "def book(author,name):\n",
    "     print (\"%s is writing %s\" % (author,name))\n",
    "\n",
    "bars = {\"name\":\"Starter learning Python\",\"author\":\"Kivi\"}\n",
    "book(**bars)"
   ]
  },
  {
   "cell_type": "markdown",
   "metadata": {},
   "source": [
    "# 注意事项\n",
    "\n",
    "下面的若干条，是常见编写代码的注意事项：\n",
    "\n",
    "别忘了冒号。一定要记住符合语句首行末尾输入“：”（if,while,for 等的第一行）\n",
    "\n",
    "从第一行开始。要确定顶层（无嵌套）程序代码从第一行开始。\n",
    "\n",
    "空白行在交互模式提示符下很重要。模块文件中符合语句内的空白行常被忽视。但是，当你在交互模式提示符下输入代码时，空白行则是会结束语句。\n",
    "缩进要一致。避免在块缩进中混合制表符和空格。\n",
    "\n",
    "使用简洁的 for 循环，而不是 while or range.相比，for 循环更易写，运行起来也更快\n",
    "\n",
    "要注意赋值语句中的可变对象。\n",
    "\n",
    "不要期待在原处修改的函数会返回结果,比如 list.append()，这在可修改的对象中特别注意\n",
    "\n",
    "调用函数是，函数名后面一定要跟随着括号，有时候括号里面就是空空的，有时候里面放参数。\n",
    "\n",
    "不要在导入和重载中使用扩展名或路径。"
   ]
  },
  {
   "cell_type": "code",
   "execution_count": 33,
   "metadata": {},
   "outputs": [
    {
     "output_type": "execute_result",
     "data": {
      "text/plain": "7"
     },
     "metadata": {},
     "execution_count": 33
    }
   ],
   "source": [
    "# 特殊函数 lambda\n",
    "# lambda arg1, arg2, ...argN : expression using arguments\n",
    "# 在 lambda 后面直接跟变量\n",
    "# 变量后面是冒号\n",
    "# 冒号后面是表达式，表达式计算结果就是本函数的返回值\n",
    "g = lambda x,y:x+y\n",
    "g(3,4)"
   ]
  },
  {
   "cell_type": "code",
   "execution_count": 36,
   "metadata": {},
   "outputs": [
    {
     "output_type": "execute_result",
     "data": {
      "text/plain": "[14, 17, 20, 15, 6]"
     },
     "metadata": {},
     "execution_count": 36
    }
   ],
   "source": [
    "# 特殊函数 map\n",
    "# map(func,seq)\n",
    "# func 是一个函数，seq 是一个序列对象。在执行的时候，序列对象中的每个元素，按照从左到右的顺序，依次被取出来，并塞入到 func 那个函数里面，并将 func 的返回值依次存到一个 list 中。\n",
    "numbers = range (10)\n",
    "list(map(lambda x: x+3,numbers))\n",
    "# 对 iterable 中的每个元素，依次应用 function 的方法（函数）（这本质上就是一个 for 循环）。\n",
    "# 将所有结果返回一个 list。\n",
    "# 如果参数很多，则对那些参数并行执行 function。\n",
    "lst1 = [1,2,3,4,5]\n",
    "lst2 = [6,7,8,9,0]\n",
    "lst3 = [7,8,9,2,1]\n",
    "list(map(lambda x,y,z: x+y+z, lst1,lst2,lst3)) # 并行执行 function"
   ]
  },
  {
   "cell_type": "code",
   "execution_count": 39,
   "metadata": {},
   "outputs": [
    {
     "output_type": "execute_result",
     "data": {
      "text/plain": "15"
     },
     "metadata": {},
     "execution_count": 39
    }
   ],
   "source": [
    "# 特殊函数 reduce \n",
    "# 在Python 3 被放置在 functools 模块里\n",
    "# 横向运算\n",
    "import functools\n",
    "functools.reduce(lambda x,y: x+y,[1,2,3,4,5])"
   ]
  },
  {
   "cell_type": "code",
   "execution_count": 41,
   "metadata": {},
   "outputs": [
    {
     "output_type": "execute_result",
     "data": {
      "text/plain": "[1, 2, 3, 4]"
     },
     "metadata": {},
     "execution_count": 41
    }
   ],
   "source": [
    "# 特殊函数 filter\n",
    "# 过滤 筛选出符合条件的元素\n",
    "numbers = range(-5,5)\n",
    "list(filter(lambda x: x>0, numbers))"
   ]
  }
 ],
 "metadata": {
  "language_info": {
   "codemirror_mode": {
    "name": "ipython",
    "version": 3
   },
   "file_extension": ".py",
   "mimetype": "text/x-python",
   "name": "python",
   "nbconvert_exporter": "python",
   "pygments_lexer": "ipython3",
   "version": "3.7.6-final"
  },
  "orig_nbformat": 2,
  "kernelspec": {
   "name": "python3",
   "display_name": "Python 3"
  }
 },
 "nbformat": 4,
 "nbformat_minor": 2
}