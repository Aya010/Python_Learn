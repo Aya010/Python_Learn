{
 "cells": [
  {
   "cell_type": "markdown",
   "metadata": {},
   "source": [
    "# 约瑟夫环\n",
    "N个人围成一圈，从第一个开始报数，第M个将被杀掉，最后剩下一个，其余人都将被杀掉。"
   ]
  },
  {
   "cell_type": "code",
   "execution_count": 17,
   "metadata": {
    "tags": []
   },
   "outputs": [
    {
     "output_type": "stream",
     "name": "stdout",
     "text": "\n总数为41,报数为3\n约瑟夫序列为：\n[3, 6, 9, 12, 15, 18, 21, 24, 27, 30, 33, 36, 39, 1, 5, 10, 14, 19, 23, 28, 32, 37, 41, 7, 13, 20, 26, 34, 40, 8, 17, 29, 38, 11, 25, 2, 22, 4, 35, 16, 31]\n\n"
    }
   ],
   "source": [
    "#控制参数：\n",
    " \n",
    "nums = 41\n",
    "call = 3\n",
    " \n",
    "#参数定义：\n",
    "peoples = []\n",
    "for _ in range(nums):\n",
    "    peoples.append(True)\n",
    "result = []\n",
    "num =1\n",
    "\n",
    "#主逻辑\n",
    "while(any(peoples)):\n",
    "    for (index,people) in enumerate(peoples):\n",
    "        if people:\n",
    "            if num == call:\n",
    "                peoples[index] = False\n",
    "                result.append(index+1)\n",
    "                num = 1               \n",
    "            else:\n",
    "                num += 1\n",
    "\n",
    "print('\\n总数为%d,报数为%d' % (nums,call))\n",
    "print('约瑟夫序列为：\\n%s\\n' % result)    \n"
   ]
  }
 ],
 "metadata": {
  "language_info": {
   "codemirror_mode": {
    "name": "ipython",
    "version": 3
   },
   "file_extension": ".py",
   "mimetype": "text/x-python",
   "name": "python",
   "nbconvert_exporter": "python",
   "pygments_lexer": "ipython3",
   "version": "3.7.6-final"
  },
  "orig_nbformat": 2,
  "kernelspec": {
   "name": "python3",
   "display_name": "Python 3"
  }
 },
 "nbformat": 4,
 "nbformat_minor": 2
}