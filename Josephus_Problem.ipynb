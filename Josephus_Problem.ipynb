{
 "cells": [
  {
   "cell_type": "markdown",
   "metadata": {},
   "source": [
    "# 约瑟夫环\n",
    "N个人围成一圈，从第一个开始报数，第M个将被杀掉，最后剩下一个，其余人都将被杀掉。"
   ]
  },
  {
   "cell_type": "code",
   "execution_count": 25,
   "metadata": {
    "tags": []
   },
   "outputs": [
    {
     "output_type": "stream",
     "name": "stdout",
     "text": "\n总数为41,报数为3\n约瑟夫序列为：\n[3, 6, 9, 12, 15, 18, 21, 24, 27, 30, 33, 36, 39, 1, 5, 10, 14, 19, 23, 28, 32, 37, 41, 7, 13, 20, 26, 34, 40, 8, 17, 29, 38, 11, 25, 2, 22, 4, 35, 16, 31]\n\n[3, 6, 9, 12, 15, 18, 21, 24, 27, 30, 33, 36, 39, 1, 5, 10, 14, 19, 23, 28, 32, 37, 41, 7, 13, 20, 26, 34, 40, 8, 17, 29, 38, 11, 25, 2, 22, 4, 35, 16, 31]\n"
    }
   ],
   "source": [
    "\"\"\"\n",
    "约瑟夫环示例\n",
    "\"\"\"\n",
    "#控制参数：\n",
    "TOTAL_NUM = 41\n",
    "STEP = 3\n",
    "#参数定义：\n",
    "PEOPLES = []\n",
    "\n",
    "for i in range(TOTAL_NUM):\n",
    "    PEOPLES.append(True)\n",
    "\n",
    "Josephus_LIST = []\n",
    "CURRENT_NUM = 1\n",
    "\n",
    "#主逻辑\n",
    "while(any(PEOPLES)):\n",
    "    for (index, people) in enumerate(PEOPLES):\n",
    "        if people:\n",
    "            if CURRENT_NUM == STEP:\n",
    "                PEOPLES[index] = False\n",
    "                Josephus_LIST.append(index + 1)\n",
    "                CURRENT_NUM = 1\n",
    "            else:\n",
    "                CURRENT_NUM += 1\n",
    "\n",
    "print('\\n总数为%d,报数为%d' % (TOTAL_NUM, STEP))\n",
    "print('约瑟夫序列为：\\n%s\\n' % Josephus_LIST)\n"
   ]
  },
  {
   "cell_type": "markdown",
   "metadata": {},
   "source": [
    "# 算法改进"
   ]
  },
  {
   "cell_type": "code",
   "execution_count": 9,
   "metadata": {
    "tags": []
   },
   "outputs": [
    {
     "output_type": "stream",
     "name": "stdout",
     "text": "[4, 7, 10, 13, 3, 8, 12, 5, 11, 6, 2, 9, 1]\n"
    }
   ],
   "source": [
    "def create_ring(num):\n",
    "    return list(range(1, num + 1))\n",
    "\n",
    "def get_josephus_list(num, step, start, ring_):\n",
    "    out_order = ((start - 1) + step - 1) % num\n",
    "    num -= 1\n",
    "    josephus_list = [ring_.pop(out_order)]\n",
    "    for i in range(num):\n",
    "        out_order = (out_order + step - 1) % num\n",
    "        num -= 1\n",
    "        josephus_list.append(ring_.pop(out_order))\n",
    "    return josephus_list\n",
    "\n",
    "if __name__ == \"__main__\":\n",
    "    \n",
    "    test_ring = create_ring(1)\n",
    "    ret = get_josephus_list(1, 1, 1, test_ring)\n",
    "    assert(ret == [1])\n",
    "\n",
    "    test_ring = create_ring(3)\n",
    "    ret = get_josephus_list(3, 2, 1, test_ring)\n",
    "    assert(ret == [2, 1, 3])\n",
    "\n",
    "    TOTAL_NUM = 13\n",
    "    STEP = 3\n",
    "    START = 2\n",
    "    RING = create_ring(TOTAL_NUM)\n",
    "    josephus_list = get_josephus_list(TOTAL_NUM,\n",
    "                     STEP, START,RING)\n",
    "    print(josephus_list)\n"
   ]
  },
  {
   "cell_type": "markdown",
   "metadata": {},
   "source": [
    "# 文件储存（字典）"
   ]
  },
  {
   "cell_type": "code",
   "execution_count": 10,
   "metadata": {
    "tags": []
   },
   "outputs": [
    {
     "output_type": "stream",
     "name": "stdout",
     "text": "The last alive one is ZhangSan\nHe/She is Male, and 11 years old\n"
    }
   ],
   "source": [
    "def create_ring():\n",
    "    #file_ = open(\"C:\\\\Users\\\\yi611\\\\Python_Learn\\\\file.txt\")\n",
    "    file_ = open(\"Josephus_List.txt\")\n",
    "    ring = []\n",
    "    for line in file_:\n",
    "        ring.append(eval(line))\n",
    "    file_.close()\n",
    "    return ring\n",
    "\n",
    "def get_josephus_list(num, step, start, ring_):\n",
    "    out_order = ((start - 1) + step - 1) % num\n",
    "    num -= 1\n",
    "    josephus_list = [ring_.pop(out_order)]\n",
    "    for i in range(num):\n",
    "        out_order = (out_order + step - 1) % num\n",
    "        num -= 1\n",
    "        josephus_list.append(ring_.pop(out_order))\n",
    "    return josephus_list\n",
    "\n",
    "if __name__ == \"__main__\":\n",
    "    RING = create_ring()\n",
    "    STEP = 3\n",
    "    START = 2\n",
    "    TOTAL_NUM = len(RING)\n",
    "    josephus_list = get_josephus_list(TOTAL_NUM,\n",
    "                     STEP, START,RING)\n",
    "    print(\"The last alive one is %s\" % josephus_list[TOTAL_NUM - 1]['Name'])\n",
    "    print(\"He/She is %s, and %s years old\"\n",
    "        %(josephus_list[TOTAL_NUM - 1]['Gender'],josephus_list[TOTAL_NUM - 1]['Age']))"
   ]
  },
  {
   "cell_type": "markdown",
   "metadata": {},
   "source": [
    "# 文件储存（类）"
   ]
  },
  {
   "cell_type": "code",
   "execution_count": 17,
   "metadata": {
    "tags": []
   },
   "outputs": [
    {
     "output_type": "stream",
     "name": "stdout",
     "text": "Name:LiSi\nAge:44\nGender:Male\n\nName:ZhenQi\nAge:77\nGender:Female\n\nName:GitHub\nAge:101\nGender:Website\n\nName:SunSan\nAge:33\nGender:Male\n\nName:WangErmazi\nAge:88\nGender:Female\n\nName:QianEr\nAge:22\nGender:Male\n\nName:Python\nAge:99\nGender:Object\n\nName:WuLiu\nAge:66\nGender:Female\n\nName:ZhaoYi\nAge:11\nGender:Male\n\nName:ZhouWu\nAge:55\nGender:Female\n\n"
    }
   ],
   "source": [
    "class Person(object):\n",
    "    def __init__(self, name, age, gender):\n",
    "        self.name = name\n",
    "        self.age = age\n",
    "        self.gender = gender\n",
    "    def get_name(self):\n",
    "        return self.name\n",
    "    def get_age(self):\n",
    "        return self.age\n",
    "    def get_gender(self):\n",
    "        return self.gender\n",
    "    def __str__(self):\n",
    "        return \"Name:%s\\nAge:%s\\nGender:%s\" % (self.name, self.age, self.gender)\n",
    "\n",
    "def create_ring(file_str):  # 输入参数可以设计为文件名\n",
    "    ring = []\n",
    "    with open(file_str) as file_:\n",
    "        for line in file_:\n",
    "            line_words = line.split(\" \")\n",
    "            ring.append(Person(line_words[0], line_words[1], line_words[2]))\n",
    "    return ring\n",
    "\n",
    "def get_josephus_list(step, start, ring_):\n",
    "    num = len(ring_)\n",
    "    out_order = ((start - 1) + step - 1) % num\n",
    "    num -= 1\n",
    "    josephus_list = [ring_.pop(out_order)]\n",
    "    for i in range(num):\n",
    "        out_order = (out_order + step - 1) % num\n",
    "        num -= 1\n",
    "        josephus_list.append(ring_.pop(out_order))\n",
    "    return josephus_list\n",
    "\n",
    "if __name__ == \"__main__\":\n",
    "    RING = create_ring(\"Josephus_List2.txt\")\n",
    "    STEP = 3\n",
    "    START = 2\n",
    "    TOTAL_NUM = len(RING)\n",
    "    josephus_list = get_josephus_list(STEP, START,RING)\n",
    "    for i in list(range(TOTAL_NUM)):\n",
    "        print(josephus_list[i])\n",
    "\n",
    "    \"\"\"print(\"The first one is:%s\" % josephus_list[0].get_name())\n",
    "    print(\"Gender:%sAge:%s\" % (josephus_list[0].get_gender(),\n",
    "          josephus_list[0].get_age()))\n",
    "    print(\"The last one is:%s\" % josephus_list[TOTAL_NUM-1].get_name())\n",
    "    print(\"Gender:%sAge:%s\" % (josephus_list[TOTAL_NUM-1].get_gender(),\n",
    "          josephus_list[TOTAL_NUM-1].get_age()))\n",
    "    \"\"\""
   ]
  },
  {
   "cell_type": "markdown",
   "metadata": {},
   "source": [
    "# 约瑟夫类\n",
    "pop() and append()"
   ]
  },
  {
   "cell_type": "code",
   "execution_count": 21,
   "metadata": {
    "tags": []
   },
   "outputs": [
    {
     "output_type": "stream",
     "name": "stdout",
     "text": "Name:LiSi\nAge:44\nGender:Male\n\nName:ZhenQi\nAge:77\nGender:Female\n\nName:GitHub\nAge:101\nGender:Website\n\nName:SunSan\nAge:33\nGender:Male\n\nName:WangErmazi\nAge:88\nGender:Female\n\nName:QianEr\nAge:22\nGender:Male\n\nName:Python\nAge:99\nGender:Object\n\nName:WuLiu\nAge:66\nGender:Female\n\nName:ZhaoYi\nAge:11\nGender:Male\n\nName:ZhouWu\nAge:55\nGender:Female\n\n"
    }
   ],
   "source": [
    "class Person(object):\n",
    "    def __init__(self, name, age, gender):\n",
    "        self.name = name\n",
    "        self.age = age\n",
    "        self.gender = gender\n",
    "    def get_name(self):\n",
    "        return self.name\n",
    "    def get_age(self):\n",
    "        return self.age\n",
    "    def get_gender(self):\n",
    "        return self.gender\n",
    "    def __str__(self):\n",
    "        return \"Name:%s\\nAge:%s\\nGender:%s\" % (self.name, self.age, self.gender)\n",
    "\n",
    "class Josephus():\n",
    "    def __init__(self, start, step):\n",
    "        self._people = []\n",
    "        self.start = start - 1\n",
    "        self.step = step\n",
    "    def append(self, person):\n",
    "        self._people.append(person)\n",
    "    def pop(self):\n",
    "        return self._people.pop(self.out_order)\n",
    "    def iterator(self):\n",
    "        pass\n",
    "    @property\n",
    "    def out_order(self):\n",
    "        num = len(self._people)\n",
    "        self.start = (self.start + self.step - 1) % num\n",
    "        return self.start\n",
    "\n",
    "def create_ring(file_str, ring):  # 输入参数可以设计为文件名\n",
    "    with open(file_str) as file_:\n",
    "        for line in file_:\n",
    "            line_words = line.split(\" \")\n",
    "            ring.append(Person(line_words[0], line_words[1], line_words[2]))\n",
    "    return ring\n",
    "\n",
    "if __name__ == \"__main__\":\n",
    "    STEP = 3\n",
    "    START = 2\n",
    "    RING = Josephus(START, STEP)\n",
    "    RING = create_ring(\"Josephus_List2.txt\", RING)\n",
    "    for i in range(len(RING._people)):\n",
    "        print(RING.pop())\n"
   ]
  },
  {
   "cell_type": "markdown",
   "metadata": {},
   "source": [
    "# 约瑟夫类\n",
    "pop() and append()\n",
    "iter"
   ]
  },
  {
   "cell_type": "code",
   "execution_count": 33,
   "metadata": {
    "tags": []
   },
   "outputs": [
    {
     "output_type": "stream",
     "name": "stdout",
     "text": "Name:LiSi\nAge:44\nGender:Male\n\nName:WuLiu\nAge:66\nGender:Female\n\nName:WangErmazi\nAge:88\nGender:Female\n\nName:GitHub\nAge:101\nGender:Website\n\nName:QianEr\nAge:22\nGender:Male\n\nName:ZhouWu\nAge:55\nGender:Female\n\nName:Python\nAge:99\nGender:Object\n\nName:SunSan\nAge:33\nGender:Male\n\nName:ZhaoYi\nAge:11\nGender:Male\n\nName:ZhenQi\nAge:77\nGender:Female\n\n"
    }
   ],
   "source": [
    "import copy\n",
    "\n",
    "class Person(object):\n",
    "    def __init__(self, name, age, gender):\n",
    "        self.name = name\n",
    "        self.age = age\n",
    "        self.gender = gender\n",
    "    def get_name(self):\n",
    "        return self.name\n",
    "    def get_age(self):\n",
    "        return self.age\n",
    "    def get_gender(self):\n",
    "        return self.gender\n",
    "    def __str__(self):\n",
    "        return \"Name:%s\\nAge:%s\\nGender:%s\" % (self.name, self.age, self.gender)\n",
    "\n",
    "class Josephus():\n",
    "    def __init__(self, start, step):\n",
    "        self._people = []\n",
    "        self.start = start - 1 # public? \n",
    "        self.step = step\n",
    "    def __iter__(self): # save data\n",
    "        self._iter = copy.deepcopy(self._people)\n",
    "        self._start = self.start\n",
    "        return self\n",
    "    def __next__(self):\n",
    "        if len(self._people) > 0:\n",
    "            return self._people.pop(self.out_order)\n",
    "        else:   #   reload data and stop iteration\n",
    "            self.start = self._start\n",
    "            self._people = copy.deepcopy(self._iter)\n",
    "            raise StopIteration\n",
    "    def append(self, person):\n",
    "        self._people.append(person)\n",
    "    def pop(self):\n",
    "        return self._people.pop(self.out_order)\n",
    "    @property\n",
    "    def out_order(self):\n",
    "        num = len(self._people)\n",
    "        self.start = (self.start + self.step - 1) % num\n",
    "        return self.start\n",
    "\n",
    "def create_ring(file_str, ring):  # 输入参数可以设计为文件名\n",
    "    with open(file_str) as file_:\n",
    "        for line in file_:\n",
    "            line_words = line.split(\" \")\n",
    "            ring.append(Person(line_words[0], line_words[1], line_words[2]))\n",
    "    return ring\n",
    "\n",
    "if __name__ == \"__main__\":\n",
    "    STEP = 2\n",
    "    START = 3\n",
    "    RING = Josephus(START, STEP)\n",
    "    RING = create_ring(\"Josephus_List2.txt\", RING)\n",
    "    for PEOPLE in RING:\n",
    "        print(PEOPLE)\n"
   ]
  },
  {
   "cell_type": "markdown",
   "metadata": {},
   "source": [
    "# .py文件调用 + assert"
   ]
  },
  {
   "cell_type": "code",
   "execution_count": 9,
   "metadata": {
    "tags": []
   },
   "outputs": [
    {
     "output_type": "stream",
     "name": "stdout",
     "text": "Name:LiSi\nAge:44\nGender:Male\n\nName:WuLiu\nAge:66\nGender:Female\n\nName:WangErmazi\nAge:88\nGender:Female\n\nName:GitHub\nAge:101\nGender:Website\n\nName:QianEr\nAge:22\nGender:Male\n\nName:ZhouWu\nAge:55\nGender:Female\n\nName:Python\nAge:99\nGender:Object\n\nName:SunSan\nAge:33\nGender:Male\n\nName:ZhaoYi\nAge:11\nGender:Male\n\nName:ZhenQi\nAge:77\nGender:Female\n\nName:LiSi\nAge:44\nGender:Male\n\n"
    }
   ],
   "source": [
    "#import sys\n",
    "#sys.path.append(\"C:\\\\Users\\\\yi611\\\\Python_Learn\\\\josephus.py\")\n",
    "#sys.path.append(\"C:\\\\Users\\\\yi611\\\\Python_Learn\\\\person.py\")\n",
    "import josephus\n",
    "import person\n",
    " \n",
    "def test(num, start, step):\n",
    "    test_ring = josephus.Josephus(start, step)\n",
    "    for i in range(num):\n",
    "        test_ring.append(i)\n",
    "    ret = []\n",
    "    for i in test_ring:\n",
    "        ret.append(i)\n",
    "    return ret\n",
    "\n",
    "ret = test(3, 1, 2)\n",
    "assert(ret == [1, 0, 2])\n",
    "\n",
    "ret = test(3, 1, -1)\n",
    "assert(ret == [1, 2, 0])\n",
    "\n",
    "ret = test(1, 1, -1)\n",
    "assert(ret == [0])\n",
    "\n",
    "ret = test(3, 2, 1)\n",
    "assert(ret == [1, 2, 0])\n",
    "\n",
    "STEP = 2\n",
    "START = 3\n",
    "RING = josephus.Josephus(START, STEP)\n",
    "RING = josephus.create_ring(\"Josephus_List2.txt\", RING)\n",
    "for PEOPLE in RING:\n",
    "    print(PEOPLE)\n",
    "#print(RING.start)\n",
    "print(RING.pop())\n"
   ]
  },
  {
   "cell_type": "code",
   "execution_count": 5,
   "metadata": {
    "tags": []
   },
   "outputs": [
    {
     "output_type": "stream",
     "name": "stdout",
     "text": "here\n1\n2\n3\n4\n"
    }
   ],
   "source": [
    "class MyNumbers:\n",
    "  def __iter__(self):\n",
    "    self.a = 1\n",
    "    print(\"here\")\n",
    "    return self\n",
    " \n",
    "  def __next__(self):\n",
    "    if self.a < 5:\n",
    "        x = self.a\n",
    "        self.a += 1\n",
    "        return x\n",
    "    else:\n",
    "        raise StopIteration   \n",
    "myclass = MyNumbers()\n",
    "for i in myclass:\n",
    "    print(i)"
   ]
  },
  {
   "cell_type": "markdown",
   "metadata": {
    "tags": []
   },
   "source": [
    "csv\n",
    "zip\n",
    "\n",
    "read file type:\n",
    "    reader\n",
    "==> txtreader csvreader zipreader\n",
    "\n",
    "# need import from PyPi\n"
   ]
  },
  {
   "cell_type": "markdown",
   "metadata": {},
   "source": [
    "# csv"
   ]
  },
  {
   "cell_type": "code",
   "execution_count": 25,
   "metadata": {
    "tags": []
   },
   "outputs": [
    {
     "output_type": "stream",
     "name": "stdout",
     "text": "Aya,0,0\nZhao,1,0\nQian,2,0\nSun,3,0\nLi,4,0\nZhou,5,1\nWu,6,1\nZhen,7,1\nWang,8,1\nFeng,9,0\nChen,10,0\nChu,11,0\nWei,12,0\n"
    }
   ],
   "source": [
    "import csv\n",
    "#csv.reader(\"Josephus.csv\")\n",
    "#If csvfile is a file object, it should be opened with newline=''. \n",
    "with open('Josephus.csv', newline='') as csvfile:\n",
    "    spamreader = csv.reader(csvfile, delimiter=' ', quotechar='|')\n",
    "    for row in spamreader:\n",
    "        print(', '.join(row))"
   ]
  },
  {
   "cell_type": "code",
   "execution_count": 24,
   "metadata": {
    "tags": []
   },
   "outputs": [
    {
     "output_type": "stream",
     "name": "stdout",
     "text": "['Aya', 0, 0]\n['Zhao', 1, 0]\n['Qian', 2, 0]\n['Sun', 3, 0]\n['Li', 4, 0]\n['Zhou', 5, 1]\n['Wu', 6, 1]\n['Zhen', 7, 1]\n['Wang', 8, 1]\n['Feng', 9, 0]\n['Chen', 10, 0]\n['Chu', 11, 0]\n['Wei', 12, 0]\n"
    }
   ],
   "source": [
    "import csv\n",
    "with open('josephus_list1.csv', 'r') as csvfile:\n",
    "    lines = csv.reader(csvfile, delimiter=' ')\n",
    "    for row in lines:\n",
    "        row_words = row[0].split(\",\")\n",
    "        row_list = [row_words[0], eval(row_words[1]), eval(row_words[2])]\n",
    "        print(row_list)\n",
    "\n"
   ]
  },
  {
   "cell_type": "markdown",
   "metadata": {},
   "source": [
    "# zipFile"
   ]
  },
  {
   "cell_type": "code",
   "execution_count": 4,
   "metadata": {},
   "outputs": [],
   "source": [
    "# 文件创建\n",
    "import zipfile\n",
    "newZip = zipfile.ZipFile('josephus.zip', 'a')\n",
    "newZip.write('josephus_list2.txt', compress_type=zipfile.ZIP_DEFLATED)\n",
    "newZip.write('josephus_list1.csv', compress_type=zipfile.ZIP_DEFLATED)\n",
    "newZip.close()"
   ]
  },
  {
   "cell_type": "code",
   "execution_count": 4,
   "metadata": {
    "tags": []
   },
   "outputs": [
    {
     "output_type": "stream",
     "name": "stdout",
     "text": "[['ZhaoYi', 11, 0], ['QianEr', 22, 0], ['SunSan', 33, 0], ['LiSi', 44, 0], ['ZhouWu', 55, 1], ['WuLiu', 66, 1], ['ZhenQi', 77, 1], ['WangErmazi', 88, 1], ['Python', 99, 0], ['GitHub', 101, 1]]\n[['Aya', 0, 0], ['Zhao', 1, 0], ['Qian', 2, 0], ['Sun', 3, 0], ['Li', 4, 0], ['Zhou', 5, 1], ['Wu', 6, 1], ['Zhen', 7, 1], ['Wang', 8, 1], ['Feng', 9, 0], ['Chen', 10, 0], ['Chu', 11, 0], ['Wei', 12, 0]]\n"
    }
   ],
   "source": [
    "\n",
    "import zipfile\n",
    "import reader\n",
    "_txt = '.txt'\n",
    "#help(zipfile.ZipFile)\n",
    "with zipfile.ZipFile('josephus.zip','r') as ZipReader:\n",
    "    file_list = ZipReader.namelist()\n",
    "    ZipReader.extractall()\n",
    "    for file_ in file_list:\n",
    "        if _txt in file_:\n",
    "            txt_read = reader.TXTReader(file_)\n",
    "            txt_ring = txt_read.read()\n",
    "            print(txt_ring)\n",
    "        else:\n",
    "            csv_read = reader.CSVReader(file_)\n",
    "            csv_ring = csv_read.read()\n",
    "            print(csv_ring)\n",
    "    \n"
   ]
  },
  {
   "cell_type": "code",
   "execution_count": 6,
   "metadata": {
    "tags": []
   },
   "outputs": [
    {
     "output_type": "stream",
     "name": "stdout",
     "text": "Name:ZhaoYi\nAge:11\nGender:0\nName:QianEr\nAge:22\nGender:0\nName:SunSan\nAge:33\nGender:0\nName:LiSi\nAge:44\nGender:0\nName:ZhouWu\nAge:55\nGender:1\nName:WuLiu\nAge:66\nGender:1\nName:ZhenQi\nAge:77\nGender:1\nName:WangErmazi\nAge:88\nGender:1\nName:Python\nAge:99\nGender:0\nName:GitHub\nAge:101\nGender:1\nName:Aya\nAge:0\nGender:0\nName:Zhao\nAge:1\nGender:0\nName:Qian\nAge:2\nGender:0\nName:Sun\nAge:3\nGender:0\nName:Li\nAge:4\nGender:0\nName:Zhou\nAge:5\nGender:1\nName:Wu\nAge:6\nGender:1\nName:Zhen\nAge:7\nGender:1\nName:Wang\nAge:8\nGender:1\nName:Feng\nAge:9\nGender:0\nName:Chen\nAge:10\nGender:0\nName:Chu\nAge:11\nGender:0\nName:Wei\nAge:12\nGender:0\nName:ZhaoYi\nAge:11\nGender:0\nName:QianEr\nAge:22\nGender:0\nName:SunSan\nAge:33\nGender:0\nName:LiSi\nAge:44\nGender:0\nName:ZhouWu\nAge:55\nGender:1\nName:WuLiu\nAge:66\nGender:1\nName:ZhenQi\nAge:77\nGender:1\nName:WangErmazi\nAge:88\nGender:1\nName:Python\nAge:99\nGender:0\nName:GitHub\nAge:101\nGender:1\nName:Aya\nAge:0\nGender:0\nName:Zhao\nAge:1\nGender:0\nName:Qian\nAge:2\nGender:0\nName:Sun\nAge:3\nGender:0\nName:Li\nAge:4\nGender:0\nName:Zhou\nAge:5\nGender:1\nName:Wu\nAge:6\nGender:1\nName:Zhen\nAge:7\nGender:1\nName:Wang\nAge:8\nGender:1\nName:Feng\nAge:9\nGender:0\nName:Chen\nAge:10\nGender:0\nName:Chu\nAge:11\nGender:0\nName:Wei\nAge:12\nGender:0\n"
    }
   ],
   "source": [
    "import person\n",
    "import josephus\n",
    "import reader\n",
    "\n",
    "ring = []\n",
    "txt_read = reader.TXTReader(\"josephus_list2.txt\")\n",
    "txt_ring = txt_read.read()\n",
    "for i in txt_ring:\n",
    "    ring.append(i)\n",
    "#print(ring)\n",
    "\n",
    "csv_read = reader.CSVReader(\"josephus_list1.csv\")\n",
    "csv_ring = csv_read.read()\n",
    "for i in csv_ring:\n",
    "    ring.append(i)\n",
    "#print(ring)\n",
    "\n",
    "zip_read = reader.ZIPReader(\"josephus.zip\")\n",
    "zip_ring = zip_read.read()\n",
    "for i in zip_ring:\n",
    "    ring.append(i)\n",
    "\n",
    "people = josephus.create_ring(ring)\n",
    "\n",
    "for i in people:\n",
    "    print(i)"
   ]
  },
  {
   "cell_type": "code",
   "execution_count": 3,
   "metadata": {
    "tags": []
   },
   "outputs": [
    {
     "output_type": "stream",
     "name": "stdout",
     "text": "Name:LiSi\nAge:44\nGender:Male\nName:WuLiu\nAge:66\nGender:Female\nName:WangErmazi\nAge:88\nGender:Female\nName:GitHub\nAge:101\nGender:Female\nName:Zhao\nAge:1\nGender:Male\nName:Sun\nAge:3\nGender:Male\nName:Zhou\nAge:5\nGender:Female\nName:Zhen\nAge:7\nGender:Female\nName:Feng\nAge:9\nGender:Male\nName:Chu\nAge:11\nGender:Male\nName:ZhaoYi\nAge:11\nGender:Male\nName:SunSan\nAge:33\nGender:Male\nName:ZhenQi\nAge:77\nGender:Female\nName:Aya\nAge:0\nGender:Male\nName:Li\nAge:4\nGender:Male\nName:Wang\nAge:8\nGender:Female\nName:Wei\nAge:12\nGender:Male\nName:ZhouWu\nAge:55\nGender:Female\nName:Qian\nAge:2\nGender:Male\nName:Chen\nAge:10\nGender:Male\nName:Python\nAge:99\nGender:Male\nName:QianEr\nAge:22\nGender:Male\nName:Wu\nAge:6\nGender:Female\nName:LiSi\nAge:44\nGender:Male\n"
    }
   ],
   "source": [
    "import person\n",
    "import josephus\n",
    "import reader\n",
    "\n",
    "person_list = []\n",
    "\n",
    "txt_read = reader.TXTReader(\"josephus_list2.txt\")\n",
    "txt_ring = txt_read.read()\n",
    "for i in txt_ring:\n",
    "    person_list.append(i)\n",
    "#print(person_list)\n",
    "\n",
    "csv_read = reader.CSVReader(\"josephus_list1.csv\")\n",
    "csv_ring = csv_read.read()\n",
    "for i in csv_ring:\n",
    "    person_list.append(i)\n",
    "#print(person_list)\n",
    "\n",
    "\"\"\"zip_read = reader.ZIPReader(\"josephus.zip\")\n",
    "zip_ring = zip_read.read()\n",
    "for i in zip_ring:\n",
    "    person_list.append(i)\n",
    "\"\"\"\n",
    "people = josephus.create_ring(person_list)\n",
    "\n",
    "STEP = 2\n",
    "START = 3\n",
    "josephus_ring = josephus.Josephus(START, STEP, people)\n",
    "\n",
    "for PEOPLE in josephus_ring:\n",
    "    print(PEOPLE)\n",
    "#print(RING.start)\n",
    "print(josephus_ring.pop())\n"
   ]
  }
 ],
 "metadata": {
  "language_info": {
   "codemirror_mode": {
    "name": "ipython",
    "version": 3
   },
   "file_extension": ".py",
   "mimetype": "text/x-python",
   "name": "python",
   "nbconvert_exporter": "python",
   "pygments_lexer": "ipython3",
   "version": "3.7.6-final"
  },
  "orig_nbformat": 2,
  "kernelspec": {
   "name": "python3",
   "display_name": "Python 3"
  }
 },
 "nbformat": 4,
 "nbformat_minor": 2
}