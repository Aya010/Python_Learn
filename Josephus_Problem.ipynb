{
 "cells": [
  {
   "cell_type": "markdown",
   "metadata": {},
   "source": [
    "# 约瑟夫环\n",
    "N个人围成一圈，从第一个开始报数，第M个将被杀掉，最后剩下一个，其余人都将被杀掉。"
   ]
  },
  {
   "cell_type": "code",
   "execution_count": 25,
   "metadata": {
    "tags": []
   },
   "outputs": [
    {
     "output_type": "stream",
     "name": "stdout",
     "text": "\n总数为41,报数为3\n约瑟夫序列为：\n[3, 6, 9, 12, 15, 18, 21, 24, 27, 30, 33, 36, 39, 1, 5, 10, 14, 19, 23, 28, 32, 37, 41, 7, 13, 20, 26, 34, 40, 8, 17, 29, 38, 11, 25, 2, 22, 4, 35, 16, 31]\n\n[3, 6, 9, 12, 15, 18, 21, 24, 27, 30, 33, 36, 39, 1, 5, 10, 14, 19, 23, 28, 32, 37, 41, 7, 13, 20, 26, 34, 40, 8, 17, 29, 38, 11, 25, 2, 22, 4, 35, 16, 31]\n"
    }
   ],
   "source": [
    "\"\"\"\n",
    "约瑟夫环示例\n",
    "\"\"\"\n",
    "#控制参数：\n",
    "TOTAL_NUM = 41\n",
    "STEP = 3\n",
    "#参数定义：\n",
    "PEOPLES = []\n",
    "\n",
    "for i in range(TOTAL_NUM):\n",
    "    PEOPLES.append(True)\n",
    "\n",
    "Josephus_LIST = []\n",
    "CURRENT_NUM = 1\n",
    "\n",
    "#主逻辑\n",
    "while(any(PEOPLES)):\n",
    "    for (index, people) in enumerate(PEOPLES):\n",
    "        if people:\n",
    "            if CURRENT_NUM == STEP:\n",
    "                PEOPLES[index] = False\n",
    "                Josephus_LIST.append(index + 1)\n",
    "                CURRENT_NUM = 1\n",
    "            else:\n",
    "                CURRENT_NUM += 1\n",
    "\n",
    "print('\\n总数为%d,报数为%d' % (TOTAL_NUM, STEP))\n",
    "print('约瑟夫序列为：\\n%s\\n' % Josephus_LIST)\n"
   ]
  },
  {
   "cell_type": "code",
   "execution_count": 2,
   "metadata": {
    "tags": []
   },
   "outputs": [
    {
     "output_type": "stream",
     "name": "stdout",
     "text": "[4, 7, 10, 13, 3, 8, 12, 5, 11, 6, 2, 9, 1]\n"
    }
   ],
   "source": [
    "def create_ring(num):\n",
    "    return list(range(1, num + 1))\n",
    "def get_josephus_list(num, step, start, ring_):\n",
    "    out_order = ((start - 1) + step - 1) % num\n",
    "    num -= 1\n",
    "    josephus_list = [ring_.pop(out_order)]\n",
    "    for i in range(num):\n",
    "        out_order = (out_order + step - 1) % num\n",
    "        num -= 1\n",
    "        josephus_list.append(ring_.pop(out_order))\n",
    "    return josephus_list\n",
    "if __name__ == \"__main__\":\n",
    "    TOTAL_NUM = 13\n",
    "    STEP = 3\n",
    "    START = 2\n",
    "    RING = create_ring(TOTAL_NUM)\n",
    "    josephus_list = get_josephus_list(TOTAL_NUM,\n",
    "                     STEP, START,RING)\n",
    "    print(josephus_list)\n"
   ]
  },
  {
   "cell_type": "code",
   "execution_count": 1,
   "metadata": {
    "tags": []
   },
   "outputs": [
    {
     "output_type": "stream",
     "name": "stdout",
     "text": "The last alive one is ZhangSan\nHe/She is Male, and 11 years old\n"
    }
   ],
   "source": [
    "def create_ring():\n",
    "    #file_ = open(\"C:\\\\Users\\\\yi611\\\\Python_Learn\\\\file.txt\")\n",
    "    file_ = open(\"Josephus_List.txt\")\n",
    "    ring = []\n",
    "    for line in file_:\n",
    "        ring.append(eval(line))\n",
    "    file_.close()\n",
    "    return ring\n",
    "\n",
    "def get_josephus_list(num, step, start, ring_):\n",
    "    out_order = ((start - 1) + step - 1) % num\n",
    "    num -= 1\n",
    "    josephus_list = [ring_.pop(out_order)]\n",
    "    for i in range(num):\n",
    "        out_order = (out_order + step - 1) % num\n",
    "        num -= 1\n",
    "        josephus_list.append(ring_.pop(out_order))\n",
    "    return josephus_list\n",
    "\n",
    "if __name__ == \"__main__\":\n",
    "    RING = create_ring()\n",
    "    STEP = 3\n",
    "    START = 2\n",
    "    TOTAL_NUM = len(RING)\n",
    "    josephus_list = get_josephus_list(TOTAL_NUM,\n",
    "                     STEP, START,RING)\n",
    "    print(\"The last alive one is %s\" % josephus_list[TOTAL_NUM - 1]['Name'])\n",
    "    print(\"He/She is %s, and %s years old\"\n",
    "        %(josephus_list[TOTAL_NUM - 1]['Gender'],josephus_list[TOTAL_NUM - 1]['Age']))"
   ]
  }
 ],
 "metadata": {
  "language_info": {
   "codemirror_mode": {
    "name": "ipython",
    "version": 3
   },
   "file_extension": ".py",
   "mimetype": "text/x-python",
   "name": "python",
   "nbconvert_exporter": "python",
   "pygments_lexer": "ipython3",
   "version": "3.7.6-final"
  },
  "orig_nbformat": 2,
  "kernelspec": {
   "name": "python3",
   "display_name": "Python 3"
  }
 },
 "nbformat": 4,
 "nbformat_minor": 2
}