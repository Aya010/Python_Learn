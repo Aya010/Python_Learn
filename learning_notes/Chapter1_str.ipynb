{
 "cells": [
  {
   "cell_type": "code",
   "execution_count": 10,
   "metadata": {
    "tags": []
   },
   "outputs": [
    {
     "output_type": "stream",
     "name": "stdout",
     "text": "15 years\nHow are you? Are you 22 years old?\nToday's temperature is +12.22\n"
    }
   ],
   "source": [
    "# 字符串格式化输出 1 \n",
    "a = \"%d years\" % 15\n",
    "print (a)\n",
    "b = \"How are %s? Are you %d years old?\" % (\"you\",22)\n",
    "print(b)\n",
    "c = \"Today's temperature is %+.2f\" %12.223\n",
    "print(c)"
   ]
  },
  {
   "cell_type": "code",
   "execution_count": 14,
   "metadata": {
    "tags": []
   },
   "outputs": [
    {
     "output_type": "stream",
     "name": "stdout",
     "text": "I like Pythom\nSuzhou is more than 2500 years. who lives in here.\n"
    }
   ],
   "source": [
    "# 字符串格式化输出 2 \n",
    "s1 = \"I like {}\".format(\"Pythom\")\n",
    "#Python 常用形式string.format(, , ,)\n",
    "s2 = \"Suzhou is more than {year} years. {name} lives in here.\".format(year=2500, name=\"who\")\n",
    "print(s1+\"\\n\"+s2)"
   ]
  },
  {
   "cell_type": "code",
   "execution_count": 32,
   "metadata": {},
   "outputs": [
    {
     "output_type": "execute_result",
     "data": {
      "text/plain": "\"Today's.temperature.is.+12.22\""
     },
     "metadata": {},
     "execution_count": 32
    }
   ],
   "source": [
    "# 字符串常用函数\n",
    "s3 = \" pyt hon \"\n",
    "#\"python\".isalpha() # 判断字符串是否全为字母，返回布尔值\n",
    "s4 = c.split(\" \") # 按字符分割字符串，返回list\n",
    "#s3.strip() #去掉字符串的左右空格\n",
    "#s3.lstrip() #去掉字符串的左边空格\n",
    "#s3.rstrip() #去掉字符串的右边空格\n",
    "#s3.upper() #str 中的字母大写\n",
    "#s3.lower() #str 中的字母小写\n",
    "#s3.capitalize() # 首字母大写\n",
    "#s3.isupper() #str 中的字母是否全是大写\n",
    "#s3.islower() #str 中的字母是否全是小写\n",
    "#s3.istitle() #str 是否是标题格式（所有单词首字母大写）\n",
    "\" \".join(s4) # 拼接\n",
    "\".\".join(s4) # 拼接"
   ]
  },
  {
   "cell_type": "code",
   "execution_count": null,
   "metadata": {},
   "outputs": [],
   "source": [
    "#中文编码声明\n",
    "#####################\n",
    "# -*- coding: utf-8 -*-\n",
    "#or\n",
    "# coding:utf-8\n",
    "######################\n"
   ]
  }
 ],
 "metadata": {
  "language_info": {
   "codemirror_mode": {
    "name": "ipython",
    "version": 3
   },
   "file_extension": ".py",
   "mimetype": "text/x-python",
   "name": "python",
   "nbconvert_exporter": "python",
   "pygments_lexer": "ipython3",
   "version": "3.7.6-final"
  },
  "orig_nbformat": 2,
  "kernelspec": {
   "name": "python3",
   "display_name": "Python 3"
  }
 },
 "nbformat": 4,
 "nbformat_minor": 2
}