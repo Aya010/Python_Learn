{
 "cells": [
  {
   "cell_type": "code",
   "execution_count": 1,
   "metadata": {
    "tags": []
   },
   "outputs": [
    {
     "output_type": "stream",
     "name": "stdout",
     "text": "suzhou : 0512\n"
    }
   ],
   "source": [
    "citys = [\"suzhou\", \"tangshan\", \"beijing\", \"shanghai\"]\n",
    "city_codes = [\"0512\", \"0315\", \"011\", \"012\"]\n",
    "print (\"{} : {}\".format(citys[0], city_codes[0]))"
   ]
  },
  {
   "cell_type": "code",
   "execution_count": 6,
   "metadata": {},
   "outputs": [
    {
     "output_type": "execute_result",
     "data": {
      "text/plain": "{'name': 'Aya010',\n 'site': 'github.com/Aya010',\n 'language': 'python',\n 'name2': 'LYL'}"
     },
     "metadata": {},
     "execution_count": 6
    }
   ],
   "source": [
    "mydict = {} # 创建空字典\n",
    "person = {\"name\":\"Aya010\",\"site\":\"github.com/Aya010\",\"language\":\"python\"} # key : value\n",
    "person['name2'] = \"LYL\" # 新增键值对\n",
    "person"
   ]
  },
  {
   "cell_type": "code",
   "execution_count": 8,
   "metadata": {},
   "outputs": [
    {
     "output_type": "execute_result",
     "data": {
      "text/plain": "{'first': 'Google', 'Second': 'WiKi'}"
     },
     "metadata": {},
     "execution_count": 8
    }
   ],
   "source": [
    "# 利用元组创建字典\n",
    "name = ([\"first\",\"Google\"],[\"Second\",\"WiKi\"])\n",
    "website = dict(name)\n",
    "website"
   ]
  },
  {
   "cell_type": "code",
   "execution_count": 9,
   "metadata": {},
   "outputs": [
    {
     "output_type": "execute_result",
     "data": {
      "text/plain": "{'third': 'facebook', 'forth': 'facebook'}"
     },
     "metadata": {},
     "execution_count": 9
    }
   ],
   "source": [
    "# 使用fromkeys 创建字典\n",
    "website = {}.fromkeys((\"third\",\"forth\"),\"facebook\")\n",
    "website"
   ]
  },
  {
   "cell_type": "code",
   "execution_count": 11,
   "metadata": {},
   "outputs": [
    {
     "output_type": "execute_result",
     "data": {
      "text/plain": "{'suzhou': '0512', 'tangshan': '0315', 'beijing': '011', 'shanghai': '012'}"
     },
     "metadata": {},
     "execution_count": 11
    }
   ],
   "source": [
    "# 使用字典\n",
    "city_code = {\"suzhou\":\"0512\", \"tangshan\":\"0315\", \"beijing\":\"011\", \"shanghai\":\"012\"}\n",
    "#person['name']\n",
    "city_code"
   ]
  },
  {
   "cell_type": "code",
   "execution_count": 18,
   "metadata": {},
   "outputs": [
    {
     "output_type": "execute_result",
     "data": {
      "text/plain": "{'suzhou': '0512', 'tangshan': '0315', 'beijing': '010', 'nanjing': '025'}"
     },
     "metadata": {},
     "execution_count": 18
    }
   ],
   "source": [
    "# 字典的基本操作\n",
    "# len(d)，返回字典(d)中的键值对的数量\n",
    "# d[key]，返回字典(d)中的键(key)的值\n",
    "# d[key]=value，将值(value)赋给字典(d)中的键(key)，或新增\n",
    "# del d[key]，删除字典(d)的键(key)项（将该键值对删除）\n",
    "# key in d，检查字典(d)中是否含有键为 key 的项\n",
    "len(city_code)\n",
    "city_code[\"nanjing\"] = \"025\"\n",
    "city_code[\"beijing\"] = \"010\"\n",
    "city_code\n",
    "#del city_code[\"shanghai\"]\n",
    "# city_code[\"shanghai\"] # 报错，已删除\n"
   ]
  },
  {
   "cell_type": "code",
   "execution_count": 19,
   "metadata": {},
   "outputs": [
    {
     "output_type": "execute_result",
     "data": {
      "text/plain": "' Suzhou is a beautiful city, its area code is 0512'"
     },
     "metadata": {},
     "execution_count": 19
    }
   ],
   "source": [
    "# 通过字典格式化输出\n",
    "\" Suzhou is a beautiful city, its area code is %(suzhou)s\" % city_code"
   ]
  },
  {
   "cell_type": "code",
   "execution_count": 21,
   "metadata": {},
   "outputs": [
    {
     "output_type": "execute_result",
     "data": {
      "text/plain": "9723344"
     },
     "metadata": {},
     "execution_count": 21
    }
   ],
   "source": [
    "# copy ,地址不同，另辟空间保存\n",
    "cd = city_code.copy()\n",
    "cd\n",
    "id(cd) - id (city_code)"
   ]
  },
  {
   "cell_type": "code",
   "execution_count": 26,
   "metadata": {
    "tags": []
   },
   "outputs": [
    {
     "output_type": "stream",
     "name": "stdout",
     "text": "{'name': 'Aya010', 'lang': ['Python', 'java']} \n {'name': 'Aya010', 'lang': ['Python', 'java']}\n{'name': 'Aya010', 'lang': ['Python', 'java']} \n {'name': 'LYL010', 'lang': ['Python', 'java']}\n"
    }
   ],
   "source": [
    "x = {\"name\":\"Aya010\", \"lang\":[\"Python\", \"java\", \"c\"]}\n",
    "y = x.copy()\n",
    "y[\"lang\"].remove(\"c\")\n",
    "print(x, \"\\n\", y)\n",
    "# 用 remove()这个列表方法删除y[\"lang\"]其中的一个元素\"c\"。\n",
    "# x所对应的字典中也发生改变\n",
    "y[\"name\"] = \"LYL010\"\n",
    "print(x, \"\\n\", y)\n",
    "# 更改y中某个元素，x中不改变\n",
    "# 这跟 Python 存储的数据类型特点有关，Python 只存储基本类型的数据，比如 int,str，对于不是基础类型的，比如刚才字典的值是列表，Python # 不会在被复制的那个对象中重新存储，而是用引用的方式，指向原来的值。这被称为浅拷贝\n",
    "# 在 Python 中，有一个“深拷贝”(deep copy)。不过，要用下一 import # 来导入一个模块。import copy"
   ]
  },
  {
   "cell_type": "code",
   "execution_count": 28,
   "metadata": {},
   "outputs": [
    {
     "output_type": "error",
     "ename": "NameError",
     "evalue": "name 'a' is not defined",
     "traceback": [
      "\u001b[1;31m---------------------------------------------------------------------------\u001b[0m",
      "\u001b[1;31mNameError\u001b[0m                                 Traceback (most recent call last)",
      "\u001b[1;32m<ipython-input-28-d027bce313fd>\u001b[0m in \u001b[0;36m<module>\u001b[1;34m\u001b[0m\n\u001b[0;32m      6\u001b[0m \u001b[0ma\u001b[0m \u001b[1;33m=\u001b[0m \u001b[1;33m{\u001b[0m\u001b[1;34m\"name\"\u001b[0m\u001b[1;33m:\u001b[0m\u001b[1;34m\"qiwsir\"\u001b[0m\u001b[1;33m}\u001b[0m\u001b[1;33m\u001b[0m\u001b[1;33m\u001b[0m\u001b[0m\n\u001b[0;32m      7\u001b[0m \u001b[1;32mdel\u001b[0m \u001b[0ma\u001b[0m\u001b[1;33m\u001b[0m\u001b[1;33m\u001b[0m\u001b[0m\n\u001b[1;32m----> 8\u001b[1;33m \u001b[0ma\u001b[0m\u001b[1;33m\u001b[0m\u001b[1;33m\u001b[0m\u001b[0m\n\u001b[0m",
      "\u001b[1;31mNameError\u001b[0m: name 'a' is not defined"
     ]
    }
   ],
   "source": [
    "# 清空字典中所有元素clear\n",
    "a = {\"name\":\"Aya010\"}\n",
    "a.clear()\n",
    "a\n",
    "# 删除 del\n",
    "#a = {\"name\":\"qiwsir\"}\n",
    "#del a\n",
    "#a # 报错"
   ]
  },
  {
   "cell_type": "code",
   "execution_count": 31,
   "metadata": {
    "tags": []
   },
   "outputs": [
    {
     "output_type": "stream",
     "name": "stdout",
     "text": "{'name': 'Aya010', 'lang': 'Python'}\n"
    }
   ],
   "source": [
    "# dic.get(key) 获取字典的某个键值，并返回（可赋予）\n",
    "# 如果不能得到键key的值，就返回后面指定的value值。\n",
    "a = {\"name\":\"Aya010\"}\n",
    "a.get(\"name\")\n",
    "# dic.setdefault(key) 当key在字典中时，同get\n",
    "# 当key不在字典中时，就在字典中增加这个键值对。\n",
    "# a.setdefault(\"name\") == a.get(\"name\")\n",
    "a.setdefault(\"lang\",\"Python\") # 新增\n",
    "print(a)"
   ]
  },
  {
   "cell_type": "code",
   "execution_count": 38,
   "metadata": {
    "tags": []
   },
   "outputs": [
    {
     "output_type": "execute_result",
     "data": {
      "text/plain": "dict_items([('name', 'Aya010'), ('lang', 'python'), ('web', 'www.itdiffer.com')])"
     },
     "metadata": {},
     "execution_count": 38
    }
   ],
   "source": [
    "# items, keys, values\n",
    "# D.items()能够得到一个关于字典的列表，列表中的元素是由字典中的键和# 值组成的元组。\n",
    "dd = {\"name\":\"Aya010\", \"lang\":\"python\",\"web\":\"www.itdiffer.com\"}\n",
    "dd_kv = dd.items()\n",
    "dd_kv"
   ]
  },
  {
   "cell_type": "code",
   "execution_count": 46,
   "metadata": {},
   "outputs": [
    {
     "output_type": "execute_result",
     "data": {
      "text/plain": "('web', 'www.itdiffer.com')"
     },
     "metadata": {},
     "execution_count": 46
    }
   ],
   "source": [
    "# pop, popitem 删除\n",
    "# D.pop(k[,d])是以字典的键为参数，删除指定键的键值对，当然，如果输入对应的值也可以，那个是可选的。\n",
    "dd.pop(\"name\")\n",
    "dd = {\"name\":\"Aya010\", \"lang\":\"python\",\"web\":\"www.itdiffer.com\"}\n",
    "# D.popitem()不是删除最后一个，前面已经交代过了，dict 没有顺序，也就没有最后和最先了，它是随机删除一个，并将所删除的返回。\n",
    "dd.popitem()"
   ]
  },
  {
   "cell_type": "code",
   "execution_count": 48,
   "metadata": {
    "tags": []
   },
   "outputs": [
    {
     "output_type": "stream",
     "name": "stdout",
     "text": "{'lang': 'python', 'song': 'I dreamed a dream'} \n {'song': 'I dreamed a dream'}\n{'lang': 'python', 'song': 'I dreamed a dream'} \n {'song': 'I dreamed a dream', 'name': 'qiwsir', 'web': 'itdiffer.com'}\n"
    }
   ],
   "source": [
    "# updata 更新字典内容\n",
    "d1 = {\"lang\":\"python\"}\n",
    "d2 = {\"song\":\"I dreamed a dream\"}\n",
    "d1.update(d2)\n",
    "print(d1,\"\\n\",d2)\n",
    "d2.update([(\"name\",\"Aya010\"), (\"web\",\"itdiffer.com\")])\n",
    "# 参数中的元组是键值对\n",
    "print(d1,\"\\n\",d2)"
   ]
  },
  {
   "cell_type": "code",
   "execution_count": 49,
   "metadata": {},
   "outputs": [
    {
     "output_type": "error",
     "ename": "AttributeError",
     "evalue": "'dict' object has no attribute 'has_key'",
     "traceback": [
      "\u001b[1;31m---------------------------------------------------------------------------\u001b[0m",
      "\u001b[1;31mAttributeError\u001b[0m                            Traceback (most recent call last)",
      "\u001b[1;32m<ipython-input-49-c442f69b71f5>\u001b[0m in \u001b[0;36m<module>\u001b[1;34m\u001b[0m\n\u001b[0;32m      1\u001b[0m \u001b[1;31m# has_key 判断是否有某个key\u001b[0m\u001b[1;33m\u001b[0m\u001b[1;33m\u001b[0m\u001b[1;33m\u001b[0m\u001b[0m\n\u001b[1;32m----> 2\u001b[1;33m \u001b[0md2\u001b[0m\u001b[1;33m.\u001b[0m\u001b[0mhas_key\u001b[0m\u001b[1;33m(\u001b[0m\u001b[1;34m\"web\"\u001b[0m\u001b[1;33m)\u001b[0m\u001b[1;33m\u001b[0m\u001b[1;33m\u001b[0m\u001b[0m\n\u001b[0m",
      "\u001b[1;31mAttributeError\u001b[0m: 'dict' object has no attribute 'has_key'"
     ]
    }
   ],
   "source": [
    "# has_key 判断是否有某个key\n",
    "# d2.has_key(\"web\")\n",
    "# 在Python 3.x 中无该函数"
   ]
  }
 ],
 "metadata": {
  "language_info": {
   "codemirror_mode": {
    "name": "ipython",
    "version": 3
   },
   "file_extension": ".py",
   "mimetype": "text/x-python",
   "name": "python",
   "nbconvert_exporter": "python",
   "pygments_lexer": "ipython3",
   "version": "3.7.6-final"
  },
  "orig_nbformat": 2,
  "kernelspec": {
   "name": "python3",
   "display_name": "Python 3"
  }
 },
 "nbformat": 4,
 "nbformat_minor": 2
}