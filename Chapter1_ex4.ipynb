{
 "cells": [
  {
   "cell_type": "code",
   "execution_count": 11,
   "metadata": {
    "tags": []
   },
   "outputs": [
    {
     "output_type": "stream",
     "name": "stdout",
     "text": "\n请计算：\n19+2*4-8/2\n\n23.0\n"
    }
   ],
   "source": [
    "#coding:utf-8 \n",
    "# 表明程序采用utf-8编码格式，可以显示汉字\n",
    "print (\"\"\"\n",
    "请计算：\n",
    "19+2*4-8/2\n",
    "\"\"\")\n",
    "a = 19+2*4-8/2\n",
    "print (a)\n"
   ]
  },
  {
   "cell_type": "code",
   "execution_count": 12,
   "metadata": {},
   "outputs": [],
   "source": [
    "#备注：使用git bash生成ssh-key\n",
    "#使用方法：\n",
    "#输入指令：ssh-keygen\n",
    "#填写文件名时填入详细路径"
   ]
  }
 ],
 "metadata": {
  "language_info": {
   "codemirror_mode": {
    "name": "ipython",
    "version": 3
   },
   "file_extension": ".py",
   "mimetype": "text/x-python",
   "name": "python",
   "nbconvert_exporter": "python",
   "pygments_lexer": "ipython3",
   "version": "3.7.6-final"
  },
  "orig_nbformat": 2,
  "kernelspec": {
   "name": "python3",
   "display_name": "Python 3"
  }
 },
 "nbformat": 4,
 "nbformat_minor": 2
}