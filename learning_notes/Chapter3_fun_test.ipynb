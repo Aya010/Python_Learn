{
 "cells": [
  {
   "cell_type": "code",
   "execution_count": 8,
   "metadata": {
    "tags": []
   },
   "outputs": [
    {
     "output_type": "stream",
     "name": "stdout",
     "text": "请输入一元二次方程的三个系数：\n\n5.0\n6.0\n7.0\n该方程无实数解\n"
    }
   ],
   "source": [
    "# 1 解一元二次方程\n",
    "# 解一元二次方程，是初中数学中的基本知识，一般来讲解法有：公式法、因式分解法等。读者可以根据自己的理解，写一段求解一元二次方程的程序\n",
    "import math\n",
    "def solve(a,b,c):\n",
    "    \"\"\"\n",
    "    求解一元二次方程\n",
    "    \"\"\"\n",
    "    if a == 0:\n",
    "        x0 = -c / b\n",
    "        return x0\n",
    "    else:\n",
    "        delta = b**2 -4*a*c\n",
    "        if delta >= 0:\n",
    "            x1 = (-b + math.sqrt(delta))/(2*a)\n",
    "            x2 = (-b - math.sqrt(delta))/(2*a)\n",
    "            return x1,x2\n",
    "        else:\n",
    "            print(\"该方程无实数解\")\n",
    "            return False\n",
    "if __name__ == \"__main__\":\n",
    "    #print(\"解一元二次方程 x^2 + 4x + 4 = 0\")\n",
    "    #answer = solve(1,4,4)\n",
    "    print(\"请输入一元二次方程的三个系数：\\n\")\n",
    "    a = float(input(\"a = \"))\n",
    "    b = float(input(\"b = \"))\n",
    "    c = float(input(\"c = \"))\n",
    "    answer = solve(a,b,c)\n",
    "    if answer != False:\n",
    "        if a == 0:\n",
    "            print(\"结果为：\\nx = %.2f\" % answer)\n",
    "        else:\n",
    "            print(\"结果为：\\nx1 = %.2f\\nx2 = %.2f\" % answer)"
   ]
  },
  {
   "cell_type": "code",
   "execution_count": 25,
   "metadata": {
    "tags": []
   },
   "outputs": [
    {
     "output_type": "stream",
     "name": "stdout",
     "text": "The average score is:  80.22222222222223\nList of the scores:  [('facebook', 99), ('apple', 99), ('amazon', 99), ('google', 98), ('alibaba', 80), ('android', 76), ('IBM', 70), ('baidu', 52), ('yahoo', 49)]\nXueba is: [('facebook', 99), ('apple', 99), ('amazon', 99)]\nXuezha is: [('yahoo', 49)]\n"
    }
   ],
   "source": [
    "# 2 统计考试成绩\n",
    "# 每次考试之后，教师都要统计考试成绩，一般包括：平均分，对所有人按成绩从高到低排队，谁成绩最好，谁成绩最差。还有其它的统计项，暂且不做了。只统计这几项吧。下面的任务就是读者转动脑筋，思考如何用程序实现上面的统计。为了简化，以字典形式表示考试成绩记录，例如：{\"zhangsan\":90, \"lisi\":78, \"wangermazi\":39}，当然，也许不止这三项，可能还有，每个老师所处理的内容稍有不同，因此字典里的键值对也不一样。\n",
    "\n",
    "def average_score(scores):\n",
    "    \"\"\"\n",
    "    求平均值\n",
    "    \"\"\"\n",
    "    score_values = scores.values()\n",
    "    sum_score = sum(score_values)\n",
    "    ave_score = sum_score / len(score_values)\n",
    "    return ave_score\n",
    "def sorted_score(scores):\n",
    "    \"\"\"\n",
    "    降序排列\n",
    "    \"\"\"\n",
    "    score_lst = [(scores[k],k) for k in scores] # 分在前，按分排序\n",
    "    sort_lst = sorted(score_lst, reverse=True)\n",
    "    return [(i[1], i[0]) for i in sort_lst] # 修正名、分的顺序\n",
    "def max_score(scores):\n",
    "    \"\"\"\n",
    "    最高分\n",
    "    \"\"\"\n",
    "    lst = sorted_score(scores)#引用分数排序的函数 sorted_score\n",
    "    max_score = lst[0][1]\n",
    "    return [(i[0],i[1]) for i in lst if i[1] == max_score]\n",
    "def min_score(scores):\n",
    "    \"\"\"\n",
    "    最低分\n",
    "    \"\"\"\n",
    "    lst = sorted_score(scores)\n",
    "    min_score = lst[len(lst)-1][1]\n",
    "    return [(i[0],i[1]) for i in lst if i[1] == min_score]\n",
    "if __name__ == \"__main__\":\n",
    "    examine_scores = {\"google\":98, \"facebook\":99, \"baidu\":52, \"alibaba\":80, \"yahoo\":49, \"IBM\":70, \"android\":76, \"apple\":99, \"amazon\":99}\n",
    "\n",
    "    ave = average_score(examine_scores)\n",
    "    print(\"The average score is: \",ave)\n",
    "\n",
    "    sor = sorted_score(examine_scores)\n",
    "    print(\"List of the scores: \",sor)\n",
    "\n",
    "    xueba = max_score(examine_scores)\n",
    "    print(\"Xueba is:\",xueba)       \n",
    "    xuezha = min_score(examine_scores)\n",
    "    print(\"Xuezha is:\",xuezha) \n",
    "#dir(dict)\n",
    "#help(dict.values)"
   ]
  },
  {
   "cell_type": "code",
   "execution_count": 29,
   "metadata": {
    "tags": []
   },
   "outputs": [
    {
     "output_type": "stream",
     "name": "stdout",
     "text": "[2, 3, 5, 7, 11, 13, 17, 19, 23, 29, 31, 37, 41, 43, 47, 53, 59, 61, 67, 71, 73, 79, 83, 89, 97]\n"
    }
   ],
   "source": [
    "# 3 找素数\n",
    "# 这是一个比较常见的题目。我们姑且将范围缩小一下，找出 100 以内的素数吧。\n",
    "def Check_prime(n):\n",
    "    \"\"\"\n",
    "    判断n是否为素数 \n",
    "    \"\"\"\n",
    "    if n <= 1:\n",
    "        print(\"请检查输入\")\n",
    "        return False\n",
    "    else:\n",
    "        for i in range(2,n):\n",
    "            if n % i ==0:\n",
    "                return False\n",
    "        return True\n",
    "if __name__ == \"__main__\":\n",
    "    primes = [i for i in range(2,100) if Check_prime(i)] \n",
    "    print(primes)\n"
   ]
  },
  {
   "cell_type": "code",
   "execution_count": null,
   "metadata": {},
   "outputs": [],
   "source": [
    "# 错误处理\n",
    "def funtion():\n",
    "    raise ValueError(\"str .... \")\n",
    "try: # 获取到错误\n",
    "    fuction()\n",
    "except ValueError as ex: # 处理错误\n",
    "    print(\"ex\")"
   ]
  }
 ],
 "metadata": {
  "language_info": {
   "codemirror_mode": {
    "name": "ipython",
    "version": 3
   },
   "file_extension": ".py",
   "mimetype": "text/x-python",
   "name": "python",
   "nbconvert_exporter": "python",
   "pygments_lexer": "ipython3",
   "version": "3.7.6-final"
  },
  "orig_nbformat": 2,
  "kernelspec": {
   "name": "python3",
   "display_name": "Python 3"
  }
 },
 "nbformat": 4,
 "nbformat_minor": 2
}