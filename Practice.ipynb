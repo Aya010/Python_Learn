{
 "cells": [
  {
   "cell_type": "markdown",
   "metadata": {},
   "source": [
    "# Practice 1\n",
    "有一个列表，其中包括 10 个元素，例如这个列表是[1,2,3,4,5,6,7,8,9,0],要求将列表中的每个元素一次向前移动一个位置，第一个元素到列表的最后，然后输出这个列表。最终样式是[2,3,4,5,6,7,8,9,0,1]"
   ]
  },
  {
   "cell_type": "code",
   "execution_count": 6,
   "metadata": {
    "tags": []
   },
   "outputs": [
    {
     "output_type": "stream",
     "name": "stdout",
     "text": "[1, 2, 3, 4, 5, 6, 7, 8, 9, 0]\n[2, 3, 4, 5, 6, 7, 8, 9, 0, 1]\n"
    }
   ],
   "source": [
    "OBJECT_LIST = [1, 2, 3, 4, 5, 6, 7, 8, 9, 0]\n",
    "\n",
    "print(OBJECT_LIST)\n",
    "\n",
    "MOVED_ELEMENT = OBJECT_LIST.pop(0)\n",
    "OBJECT_LIST.append(MOVED_ELEMENT)\n",
    "\n",
    "print(OBJECT_LIST)\n"
   ]
  },
  {
   "cell_type": "markdown",
   "metadata": {},
   "source": [
    "# Practice 2\n",
    "(1)产生一个列表，其中有 40 个元素，每个元素是 0 到 100 的一个随机整数.\n",
    "\n",
    "(2)如果这个列表中的数据代表着某个班级 40 人的分数，请计算成绩低于平均分的学生人数，并输出\n",
    "\n",
    "(3)对上面的列表元素从大到小排序"
   ]
  },
  {
   "cell_type": "code",
   "execution_count": 29,
   "metadata": {
    "tags": []
   },
   "outputs": [
    {
     "output_type": "stream",
     "name": "stdout",
     "text": "低于平均分的人数为：17 \n所有分数降序排列欸：\n[98, 96, 95, 94, 94, 93, 88, 87, 84, 83, 78, 72, 72, 69, 68, 65, 65, 62, 61, 61, 59, 58, 56, 52, 52, 50, 46, 37, 34, 32, 21, 18, 16, 13, 13, 12, 8, 7, 3, 2]\n"
    }
   ],
   "source": [
    "\"\"\"\n",
    "分数处理.\n",
    "\"\"\"\n",
    "import random\n",
    "\n",
    "TOTAL_NUM = 40\n",
    "\n",
    "def create_scores(total_num, max_score=100):\n",
    "    \"\"\"\n",
    "    Create a list of scores.\n",
    "    \"\"\"\n",
    "    return [random.randint(0, max_score) for i in range(total_num)]\n",
    "\n",
    "def filter_under_average(input_list):\n",
    "    \"\"\"\n",
    "    Filter out the numbers below the average.\n",
    "    \"\"\"\n",
    "    num = len(input_list)\n",
    "    sum_up = float(sum(input_list))\n",
    "    average = sum_up / num\n",
    "    return [x for x in input_list if x < average]\n",
    "\n",
    "scores = create_scores(TOTAL_NUM)\n",
    "num_under_ave = len(filter_under_average(scores))\n",
    "\n",
    "ASCENDING = True\n",
    "sorted_score = sorted(scores, reverse=ASCENDING)\n",
    "\n",
    "print(\"低于平均分的人数为：%d \" % num_under_ave)\n",
    "print(\"所有分数降序排列欸：\")\n",
    "print(sorted_score)\n"
   ]
  },
  {
   "cell_type": "markdown",
   "metadata": {},
   "source": [
    "# Practice 3\n",
    "如果将一句话作为一个字符串，那么这个字符串中必然会有空格（这里仅讨论英文），比如\"How are you.\"，但有的时候，会在两个单词之间多大一个空格。现在的任务是，如果一个字符串中有连续的两个空格，请把它删除。"
   ]
  },
  {
   "cell_type": "code",
   "execution_count": 26,
   "metadata": {
    "tags": []
   },
   "outputs": [
    {
     "output_type": "stream",
     "name": "stdout",
     "text": "['', 'I', '', 'love', '', '', '', 'code.', ''] \n ['I', 'love', 'code.']\n I  love    code. \nI love code.\n"
    }
   ],
   "source": [
    "\"\"\"\n",
    "处理空格\n",
    "\"\"\"\n",
    "OLD_STRING = \" I  love   code. \"\n",
    "\n",
    "OLD_WORDS_LIST = OLD_STRING.split(\" \")\n",
    "NEW_WORDS_LIST = [x for x in OLD_WORDS_LIST if x != \"\"]\n",
    "NEW_STRING = \" \".join(NEW_WORDS_LIST)\n",
    "\n",
    "print(OLD_WORDS_LIST, \"\\n\", NEW_WORDS_LIST)\n",
    "print(OLD_STRING + \"\\n\" + NEW_STRING)\n"
   ]
  },
  {
   "cell_type": "markdown",
   "metadata": {},
   "source": [
    "# Practice 4\n",
    "斐波那契数列第n个数的值"
   ]
  },
  {
   "cell_type": "code",
   "execution_count": 54,
   "metadata": {
    "tags": []
   },
   "outputs": [
    {
     "output_type": "stream",
     "name": "stdout",
     "text": "354224848179261915075\n"
    }
   ],
   "source": [
    "\"\"\"\n",
    "获得斐波那契数列第n个元素的数值.\n",
    "\"\"\"\n",
    "\n",
    "def get_fibonacci(num_order):\n",
    "    \"\"\"\n",
    "    获得斐波那契数列第num_order个元素的数值.\n",
    "    \"\"\"\n",
    "    last_num = 0\n",
    "    target_num = 1\n",
    "\n",
    "    if num_order >= 1:\n",
    "        for i in range(num_order - 1):\n",
    "            last_num, target_num = target_num, target_num + last_num\n",
    "    else:\n",
    "        raise ValueError(\"The Num is less than 1.\")\n",
    "    return target_num\n",
    "\n",
    "\n",
    "if __name__ == \"__main__\":\n",
    "    try:\n",
    "        FIBONACCI_NUM = get_fibonacci(100)\n",
    "        print(FIBONACCI_NUM)\n",
    "\n",
    "    except ValueError as ex:\n",
    "        print(ex)\n"
   ]
  },
  {
   "cell_type": "markdown",
   "metadata": {},
   "source": [
    "# Practice 5\n",
    "解一元二次方程，是初中数学中的基本知识，一般来讲解法有：公式法、因式分解法等。读者可以根据自己的理解，写一段求解一元二次方程的程序"
   ]
  },
  {
   "cell_type": "code",
   "execution_count": 57,
   "metadata": {
    "tags": []
   },
   "outputs": [
    {
     "output_type": "stream",
     "name": "stdout",
     "text": "请输入一元二次方程的三个系数：\n\n结果为：\nx1 = -1.00\nx2 = -1.00\n"
    }
   ],
   "source": [
    "\"\"\"\n",
    "To Solve quadratic equation.\n",
    "\"\"\"\n",
    "import math\n",
    "def solve_quadratic(quadratic_num, first_order_num, constant_num):\n",
    "    \"\"\"\n",
    "    To Solve quadratic equation.\n",
    "    \"\"\"\n",
    "    if quadratic_num == 0:\n",
    "        root_0 = -constant_num / first_order_num\n",
    "        return root_0\n",
    "    else:\n",
    "        delta = first_order_num**2 -4*quadratic_num*constant_num\n",
    "        if delta >= 0:\n",
    "            root_1 = (-first_order_num + math.sqrt(delta))/(2*quadratic_num)\n",
    "            root_2 = (-first_order_num - math.sqrt(delta))/(2*quadratic_num)\n",
    "        else:\n",
    "            raise ValueError(\"This equation has no real root.\")\n",
    "        return root_1, root_2\n",
    "\n",
    "\n",
    "if __name__ == \"__main__\":\n",
    "    print(\"请输入一元二次方程的三个系数：\\n\")\n",
    "    a = float(input(\"a = \"))\n",
    "    b = float(input(\"b = \"))\n",
    "    c = float(input(\"c = \"))\n",
    "\n",
    "    try:\n",
    "        roots = solve_quadratic(a, b, c)\n",
    "        if a == 0:\n",
    "            print(\"结果为：\\nx = %.2f\" % roots)\n",
    "        else:\n",
    "            print(\"结果为：\\nx1 = %.2f\\nx2 = %.2f\" % roots)\n",
    "\n",
    "    except ValueError as ex:\n",
    "        print(ex)\n",
    "     "
   ]
  },
  {
   "cell_type": "markdown",
   "metadata": {},
   "source": [
    "# Practice 6\n",
    "统计考试成绩，包括：平均分，对所有人按成绩从高到低排队，谁成绩最好，谁成绩最差。"
   ]
  },
  {
   "cell_type": "code",
   "execution_count": 5,
   "metadata": {
    "tags": []
   },
   "outputs": [
    {
     "output_type": "stream",
     "name": "stdout",
     "text": "The average score is:  80.22222222222223\nThe ascending list of the scores:  [('facebook', 99), ('apple', 99), ('amazon', 99), ('google', 98), ('alibaba', 80), ('android', 76), ('IBM', 70), ('baidu', 52), ('yahoo', 49)]\nXueba: [('facebook', 99), ('apple', 99), ('amazon', 99)]\nXuezha: [('yahoo', 49)]\n"
    }
   ],
   "source": [
    "\"\"\"\n",
    "To get the average score,  descending order，\n",
    "maximum and minimum of a list of scores.\n",
    "\"\"\"\n",
    "def get_average_score(scores):\n",
    "    \"\"\"\n",
    "    To get the average score of scores.\n",
    "    \"\"\"\n",
    "    score_values = scores.values()\n",
    "    sum_score = sum(score_values)\n",
    "    ave_score = sum_score / len(score_values)\n",
    "    return ave_score\n",
    "\n",
    "def get_sorted_scores(scores):\n",
    "    \"\"\"\n",
    "    To get the descending order of scores.\n",
    "    \"\"\"\n",
    "    ascending = True\n",
    "    score_list = [(scores[k], k) for k in scores]\n",
    "    sort_list = sorted(score_list, reverse=ascending)\n",
    "    return [(x[1], x[0]) for x in sort_list]\n",
    "\n",
    "def get_max_score(scores):\n",
    "    \"\"\"\n",
    "    To get the maximum of scores.\n",
    "    \"\"\"\n",
    "    ascending_list = get_sorted_scores(scores)\n",
    "    max_score = ascending_list[0][1]\n",
    "    return [(x[0], x[1]) for x in ascending_list if x[1] == max_score]\n",
    "\n",
    "def get_min_score(scores):\n",
    "    \"\"\"\n",
    "    To get the minimum of scores.\n",
    "    \"\"\"\n",
    "    ascending_list = get_sorted_scores(scores)\n",
    "    min_score = ascending_list[len(ascending_list)-1][1]\n",
    "    return [(x[0], x[1]) for x in ascending_list if x[1] == min_score]\n",
    "\n",
    "\n",
    "if __name__ == \"__main__\":\n",
    "    examine_scores = {\"google\":98, \"facebook\":99, \"baidu\":52,\n",
    "                      \"alibaba\":80, \"yahoo\":49, \"IBM\":70, \"android\":76, \"apple\":99, \"amazon\":99}\n",
    "\n",
    "    average_score = get_average_score(examine_scores)\n",
    "    print(\"The average score is: \", average_score)\n",
    "\n",
    "    sorted_scores = get_sorted_scores(examine_scores)\n",
    "    print(\"The ascending list of the scores: \", sorted_scores)\n",
    "\n",
    "    xueba = get_max_score(examine_scores)\n",
    "    print(\"Xueba:\", xueba)\n",
    "\n",
    "    xuezha = get_min_score(examine_scores)\n",
    "    print(\"Xuezha:\", xuezha)\n"
   ]
  },
  {
   "cell_type": "markdown",
   "metadata": {},
   "source": [
    "# Practice 7\n",
    "找出 100 以内的素数。"
   ]
  },
  {
   "cell_type": "code",
   "execution_count": 62,
   "metadata": {
    "tags": []
   },
   "outputs": [
    {
     "output_type": "stream",
     "name": "stdout",
     "text": "[2, 3, 5, 7, 11, 13, 17, 19, 23, 29, 31, 37, 41, 43, 47, 53, 59, 61, 67, 71, 73, 79, 83, 89, 97]\n"
    }
   ],
   "source": [
    "\"\"\"\n",
    "求100以内的素数列.\n",
    "\"\"\"\n",
    "def is_prime(number_):\n",
    "    \"\"\"\n",
    "    判断n是否为素数.\n",
    "    \"\"\"\n",
    "    if number_ > 1:\n",
    "        for i in range(2, number_):\n",
    "            if number_ % i == 0:\n",
    "                return False\n",
    "        return True\n",
    "    else:\n",
    "        raise ValueError(\"The number number is less than 2.\")\n",
    "\n",
    "\n",
    "if __name__ == \"__main__\":\n",
    "    MAX_NUM = 100\n",
    "    FIRST_NUM = 2\n",
    "    try:\n",
    "        primes = [i for i in range(FIRST_NUMFIRST_NUM, MAX_NUM) if is_prime(i)]\n",
    "        print(primes)\n",
    "    except ValueError as ex:\n",
    "        print(ex)\n"
   ]
  }
 ],
 "metadata": {
  "language_info": {
   "codemirror_mode": {
    "name": "ipython",
    "version": 3
   },
   "file_extension": ".py",
   "mimetype": "text/x-python",
   "name": "python",
   "nbconvert_exporter": "python",
   "pygments_lexer": "ipython3",
   "version": "3.7.6-final"
  },
  "orig_nbformat": 2,
  "kernelspec": {
   "name": "python3",
   "display_name": "Python 3"
  }
 },
 "nbformat": 4,
 "nbformat_minor": 2
}