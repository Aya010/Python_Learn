{
 "cells": [
  {
   "cell_type": "markdown",
   "metadata": {},
   "source": [
    "# 约瑟夫环\n",
    "N个人围成一圈，从第一个开始报数，第M个将被杀掉，最后剩下一个，其余人都将被杀掉。"
   ]
  },
  {
   "cell_type": "code",
   "execution_count": 25,
   "metadata": {
    "tags": []
   },
   "outputs": [
    {
     "output_type": "stream",
     "name": "stdout",
     "text": "\n总数为41,报数为3\n约瑟夫序列为：\n[3, 6, 9, 12, 15, 18, 21, 24, 27, 30, 33, 36, 39, 1, 5, 10, 14, 19, 23, 28, 32, 37, 41, 7, 13, 20, 26, 34, 40, 8, 17, 29, 38, 11, 25, 2, 22, 4, 35, 16, 31]\n\n[3, 6, 9, 12, 15, 18, 21, 24, 27, 30, 33, 36, 39, 1, 5, 10, 14, 19, 23, 28, 32, 37, 41, 7, 13, 20, 26, 34, 40, 8, 17, 29, 38, 11, 25, 2, 22, 4, 35, 16, 31]\n"
    }
   ],
   "source": [
    "\"\"\"\n",
    "约瑟夫环示例\n",
    "\"\"\"\n",
    "#控制参数：\n",
    "TOTAL_NUM = 41\n",
    "STEP = 3\n",
    "#参数定义：\n",
    "PEOPLES = []\n",
    "\n",
    "for i in range(TOTAL_NUM):\n",
    "    PEOPLES.append(True)\n",
    "\n",
    "Josephus_LIST = []\n",
    "CURRENT_NUM = 1\n",
    "\n",
    "#主逻辑\n",
    "while(any(PEOPLES)):\n",
    "    for (index, people) in enumerate(PEOPLES):\n",
    "        if people:\n",
    "            if CURRENT_NUM == STEP:\n",
    "                PEOPLES[index] = False\n",
    "                Josephus_LIST.append(index + 1)\n",
    "                CURRENT_NUM = 1\n",
    "            else:\n",
    "                CURRENT_NUM += 1\n",
    "\n",
    "print('\\n总数为%d,报数为%d' % (TOTAL_NUM, STEP))\n",
    "print('约瑟夫序列为：\\n%s\\n' % Josephus_LIST)\n"
   ]
  },
  {
   "cell_type": "markdown",
   "metadata": {},
   "source": [
    "# 算法改进"
   ]
  },
  {
   "cell_type": "code",
   "execution_count": 9,
   "metadata": {
    "tags": []
   },
   "outputs": [
    {
     "output_type": "stream",
     "name": "stdout",
     "text": "[4, 7, 10, 13, 3, 8, 12, 5, 11, 6, 2, 9, 1]\n"
    }
   ],
   "source": [
    "def create_ring(num):\n",
    "    return list(range(1, num + 1))\n",
    "\n",
    "def get_josephus_list(num, step, start, ring_):\n",
    "    out_order = ((start - 1) + step - 1) % num\n",
    "    num -= 1\n",
    "    josephus_list = [ring_.pop(out_order)]\n",
    "    for i in range(num):\n",
    "        out_order = (out_order + step - 1) % num\n",
    "        num -= 1\n",
    "        josephus_list.append(ring_.pop(out_order))\n",
    "    return josephus_list\n",
    "\n",
    "if __name__ == \"__main__\":\n",
    "    \n",
    "    test_ring = create_ring(1)\n",
    "    ret = get_josephus_list(1, 1, 1, test_ring)\n",
    "    assert(ret == [1])\n",
    "\n",
    "    test_ring = create_ring(3)\n",
    "    ret = get_josephus_list(3, 2, 1, test_ring)\n",
    "    assert(ret == [2, 1, 3])\n",
    "\n",
    "    TOTAL_NUM = 13\n",
    "    STEP = 3\n",
    "    START = 2\n",
    "    RING = create_ring(TOTAL_NUM)\n",
    "    josephus_list = get_josephus_list(TOTAL_NUM,\n",
    "                     STEP, START,RING)\n",
    "    print(josephus_list)\n"
   ]
  },
  {
   "cell_type": "markdown",
   "metadata": {},
   "source": [
    "# 文件储存（字典）"
   ]
  },
  {
   "cell_type": "code",
   "execution_count": 10,
   "metadata": {
    "tags": []
   },
   "outputs": [
    {
     "output_type": "stream",
     "name": "stdout",
     "text": "The last alive one is ZhangSan\nHe/She is Male, and 11 years old\n"
    }
   ],
   "source": [
    "def create_ring():\n",
    "    #file_ = open(\"C:\\\\Users\\\\yi611\\\\Python_Learn\\\\file.txt\")\n",
    "    file_ = open(\"Josephus_List.txt\")\n",
    "    ring = []\n",
    "    for line in file_:\n",
    "        ring.append(eval(line))\n",
    "    file_.close()\n",
    "    return ring\n",
    "\n",
    "def get_josephus_list(num, step, start, ring_):\n",
    "    out_order = ((start - 1) + step - 1) % num\n",
    "    num -= 1\n",
    "    josephus_list = [ring_.pop(out_order)]\n",
    "    for i in range(num):\n",
    "        out_order = (out_order + step - 1) % num\n",
    "        num -= 1\n",
    "        josephus_list.append(ring_.pop(out_order))\n",
    "    return josephus_list\n",
    "\n",
    "if __name__ == \"__main__\":\n",
    "    RING = create_ring()\n",
    "    STEP = 3\n",
    "    START = 2\n",
    "    TOTAL_NUM = len(RING)\n",
    "    josephus_list = get_josephus_list(TOTAL_NUM,\n",
    "                     STEP, START,RING)\n",
    "    print(\"The last alive one is %s\" % josephus_list[TOTAL_NUM - 1]['Name'])\n",
    "    print(\"He/She is %s, and %s years old\"\n",
    "        %(josephus_list[TOTAL_NUM - 1]['Gender'],josephus_list[TOTAL_NUM - 1]['Age']))"
   ]
  },
  {
   "cell_type": "markdown",
   "metadata": {},
   "source": [
    "# 文件储存（类）"
   ]
  },
  {
   "cell_type": "code",
   "execution_count": 17,
   "metadata": {
    "tags": []
   },
   "outputs": [
    {
     "output_type": "stream",
     "name": "stdout",
     "text": "Name:LiSi\nAge:44\nGender:Male\n\nName:ZhenQi\nAge:77\nGender:Female\n\nName:GitHub\nAge:101\nGender:Website\n\nName:SunSan\nAge:33\nGender:Male\n\nName:WangErmazi\nAge:88\nGender:Female\n\nName:QianEr\nAge:22\nGender:Male\n\nName:Python\nAge:99\nGender:Object\n\nName:WuLiu\nAge:66\nGender:Female\n\nName:ZhaoYi\nAge:11\nGender:Male\n\nName:ZhouWu\nAge:55\nGender:Female\n\n"
    }
   ],
   "source": [
    "class Person(object):\n",
    "    def __init__(self, name, age, gender):\n",
    "        self.name = name\n",
    "        self.age = age\n",
    "        self.gender = gender\n",
    "    def get_name(self):\n",
    "        return self.name\n",
    "    def get_age(self):\n",
    "        return self.age\n",
    "    def get_gender(self):\n",
    "        return self.gender\n",
    "    def __str__(self):\n",
    "        return \"Name:%s\\nAge:%s\\nGender:%s\" % (self.name, self.age, self.gender)\n",
    "\n",
    "def create_ring(file_str):  # 输入参数可以设计为文件名\n",
    "    ring = []\n",
    "    with open(file_str) as file_:\n",
    "        for line in file_:\n",
    "            line_words = line.split(\" \")\n",
    "            ring.append(Person(line_words[0], line_words[1], line_words[2]))\n",
    "    return ring\n",
    "\n",
    "def get_josephus_list(step, start, ring_):\n",
    "    num = len(ring_)\n",
    "    out_order = ((start - 1) + step - 1) % num\n",
    "    num -= 1\n",
    "    josephus_list = [ring_.pop(out_order)]\n",
    "    for i in range(num):\n",
    "        out_order = (out_order + step - 1) % num\n",
    "        num -= 1\n",
    "        josephus_list.append(ring_.pop(out_order))\n",
    "    return josephus_list\n",
    "\n",
    "if __name__ == \"__main__\":\n",
    "    RING = create_ring(\"Josephus_List2.txt\")\n",
    "    STEP = 3\n",
    "    START = 2\n",
    "    TOTAL_NUM = len(RING)\n",
    "    josephus_list = get_josephus_list(STEP, START,RING)\n",
    "    for i in list(range(TOTAL_NUM)):\n",
    "        print(josephus_list[i])\n",
    "\n",
    "    \"\"\"print(\"The first one is:%s\" % josephus_list[0].get_name())\n",
    "    print(\"Gender:%sAge:%s\" % (josephus_list[0].get_gender(),\n",
    "          josephus_list[0].get_age()))\n",
    "    print(\"The last one is:%s\" % josephus_list[TOTAL_NUM-1].get_name())\n",
    "    print(\"Gender:%sAge:%s\" % (josephus_list[TOTAL_NUM-1].get_gender(),\n",
    "          josephus_list[TOTAL_NUM-1].get_age()))\n",
    "    \"\"\""
   ]
  },
  {
   "cell_type": "markdown",
   "metadata": {},
   "source": [
    "# 约瑟夫类\n",
    "pop() and append()"
   ]
  },
  {
   "cell_type": "code",
   "execution_count": 21,
   "metadata": {
    "tags": []
   },
   "outputs": [
    {
     "output_type": "stream",
     "name": "stdout",
     "text": "Name:LiSi\nAge:44\nGender:Male\n\nName:ZhenQi\nAge:77\nGender:Female\n\nName:GitHub\nAge:101\nGender:Website\n\nName:SunSan\nAge:33\nGender:Male\n\nName:WangErmazi\nAge:88\nGender:Female\n\nName:QianEr\nAge:22\nGender:Male\n\nName:Python\nAge:99\nGender:Object\n\nName:WuLiu\nAge:66\nGender:Female\n\nName:ZhaoYi\nAge:11\nGender:Male\n\nName:ZhouWu\nAge:55\nGender:Female\n\n"
    }
   ],
   "source": [
    "class Person(object):\n",
    "    def __init__(self, name, age, gender):\n",
    "        self.name = name\n",
    "        self.age = age\n",
    "        self.gender = gender\n",
    "    def get_name(self):\n",
    "        return self.name\n",
    "    def get_age(self):\n",
    "        return self.age\n",
    "    def get_gender(self):\n",
    "        return self.gender\n",
    "    def __str__(self):\n",
    "        return \"Name:%s\\nAge:%s\\nGender:%s\" % (self.name, self.age, self.gender)\n",
    "\n",
    "class Josephus():\n",
    "    def __init__(self, start, step):\n",
    "        self._people = []\n",
    "        self.start = start - 1\n",
    "        self.step = step\n",
    "    def append(self, person):\n",
    "        self._people.append(person)\n",
    "    def pop(self):\n",
    "        return self._people.pop(self.out_order)\n",
    "    def iterator(self):\n",
    "        pass\n",
    "    @property\n",
    "    def out_order(self):\n",
    "        num = len(self._people)\n",
    "        self.start = (self.start + self.step - 1) % num\n",
    "        return self.start\n",
    "\n",
    "def create_ring(file_str, ring):  # 输入参数可以设计为文件名\n",
    "    with open(file_str) as file_:\n",
    "        for line in file_:\n",
    "            line_words = line.split(\" \")\n",
    "            ring.append(Person(line_words[0], line_words[1], line_words[2]))\n",
    "    return ring\n",
    "\n",
    "if __name__ == \"__main__\":\n",
    "    STEP = 3\n",
    "    START = 2\n",
    "    RING = Josephus(START, STEP)\n",
    "    RING = create_ring(\"Josephus_List2.txt\", RING)\n",
    "    for i in range(len(RING._people)):\n",
    "        print(RING.pop())\n"
   ]
  },
  {
   "cell_type": "markdown",
   "metadata": {},
   "source": [
    "# 约瑟夫类\n",
    "pop() and append()\n",
    "iter"
   ]
  },
  {
   "cell_type": "code",
   "execution_count": 33,
   "metadata": {
    "tags": []
   },
   "outputs": [
    {
     "output_type": "stream",
     "name": "stdout",
     "text": "Name:LiSi\nAge:44\nGender:Male\n\nName:WuLiu\nAge:66\nGender:Female\n\nName:WangErmazi\nAge:88\nGender:Female\n\nName:GitHub\nAge:101\nGender:Website\n\nName:QianEr\nAge:22\nGender:Male\n\nName:ZhouWu\nAge:55\nGender:Female\n\nName:Python\nAge:99\nGender:Object\n\nName:SunSan\nAge:33\nGender:Male\n\nName:ZhaoYi\nAge:11\nGender:Male\n\nName:ZhenQi\nAge:77\nGender:Female\n\n"
    }
   ],
   "source": [
    "class Person(object):\n",
    "    def __init__(self, name, age, gender):\n",
    "        self.name = name\n",
    "        self.age = age\n",
    "        self.gender = gender\n",
    "    def get_name(self):\n",
    "        return self.name\n",
    "    def get_age(self):\n",
    "        return self.age\n",
    "    def get_gender(self):\n",
    "        return self.gender\n",
    "    def __str__(self):\n",
    "        return \"Name:%s\\nAge:%s\\nGender:%s\" % (self.name, self.age, self.gender)\n",
    "\n",
    "class Josephus():\n",
    "    def __init__(self, start, step):\n",
    "        self._people = []\n",
    "        self.start = start - 1\n",
    "        self.step = step\n",
    "    def __iter__(self):\n",
    "        #self._iter = self._people\n",
    "        return self\n",
    "    def __next__(self):\n",
    "        if len(self._people) > 0:\n",
    "            return self._people.pop(self.out_order)\n",
    "        else:\n",
    "            raise StopIteration\n",
    "    def append(self, person):\n",
    "        self._people.append(person)\n",
    "    def pop(self):\n",
    "        return self._people.pop(self.out_order)\n",
    "    def iterator(self):\n",
    "        pass\n",
    "    @property\n",
    "    def out_order(self):\n",
    "        num = len(self._people)\n",
    "        self.start = (self.start + self.step - 1) % num\n",
    "        return self.start\n",
    "\n",
    "def create_ring(file_str, ring):  # 输入参数可以设计为文件名\n",
    "    with open(file_str) as file_:\n",
    "        for line in file_:\n",
    "            line_words = line.split(\" \")\n",
    "            ring.append(Person(line_words[0], line_words[1], line_words[2]))\n",
    "    return ring\n",
    "\n",
    "if __name__ == \"__main__\":\n",
    "    STEP = 2\n",
    "    START = 3\n",
    "    RING = Josephus(START, STEP)\n",
    "    RING = create_ring(\"Josephus_List2.txt\", RING)\n",
    "    for PEOPLE in RING:\n",
    "        print(PEOPLE)\n"
   ]
  },
  {
   "cell_type": "markdown",
   "metadata": {},
   "source": [
    "# .py文件调用 + assert"
   ]
  },
  {
   "cell_type": "code",
   "execution_count": 6,
   "metadata": {
    "tags": []
   },
   "outputs": [
    {
     "output_type": "stream",
     "name": "stdout",
     "text": "Name:LiSi\nAge:44\nGender:Male\n\nName:WuLiu\nAge:66\nGender:Female\n\nName:WangErmazi\nAge:88\nGender:Female\n\nName:GitHub\nAge:101\nGender:Website\n\nName:QianEr\nAge:22\nGender:Male\n\nName:ZhouWu\nAge:55\nGender:Female\n\nName:Python\nAge:99\nGender:Object\n\nName:SunSan\nAge:33\nGender:Male\n\nName:ZhaoYi\nAge:11\nGender:Male\n\nName:ZhenQi\nAge:77\nGender:Female\n\nName:LiSi\nAge:44\nGender:Male\n\n"
    }
   ],
   "source": [
    "import josephus\n",
    "import person\n",
    "\n",
    "test_ring = josephus.Josephus(1, 2)\n",
    "for i in list(range(3)):\n",
    "    test_ring.append(i)\n",
    "ret = []\n",
    "for i in test_ring:\n",
    "    ret.append(i)\n",
    "assert(ret == [1, 0, 2])\n",
    "\n",
    "test_ring = josephus.Josephus(1, -1)\n",
    "for i in list(range(3)):\n",
    "    test_ring.append(i)\n",
    "ret = []\n",
    "for i in test_ring:\n",
    "    ret.append(i)\n",
    "assert(ret == [1, 2, 0])\n",
    "\n",
    "\n",
    "STEP = 2\n",
    "START = 3\n",
    "RING = josephus.Josephus(START, STEP)\n",
    "RING = josephus.create_ring(\"Josephus_List2.txt\", RING)\n",
    "for PEOPLE in RING:\n",
    "    print(PEOPLE)\n",
    "#print(RING.start)\n",
    "print(RING.pop())\n"
   ]
  },
  {
   "cell_type": "code",
   "execution_count": 2,
   "metadata": {
    "tags": []
   },
   "outputs": [
    {
     "output_type": "stream",
     "name": "stdout",
     "text": "here\n1\n2\n3\n4\n"
    }
   ],
   "source": [
    "class MyNumbers:\n",
    "  def __iter__(self):\n",
    "    self.a = 1\n",
    "    print(\"here\")\n",
    "    return self\n",
    " \n",
    "  def __next__(self):\n",
    "    if self.a < 5:\n",
    "        x = self.a\n",
    "        self.a += 1\n",
    "        return x\n",
    "    else:\n",
    "        raise StopIteration   \n",
    " \n",
    "myclass = MyNumbers()\n",
    "for i in myclass:\n",
    "    print(i)"
   ]
  }
 ],
 "metadata": {
  "language_info": {
   "codemirror_mode": {
    "name": "ipython",
    "version": 3
   },
   "file_extension": ".py",
   "mimetype": "text/x-python",
   "name": "python",
   "nbconvert_exporter": "python",
   "pygments_lexer": "ipython3",
   "version": "3.7.6-final"
  },
  "orig_nbformat": 2,
  "kernelspec": {
   "name": "python3",
   "display_name": "Python 3"
  }
 },
 "nbformat": 4,
 "nbformat_minor": 2
}