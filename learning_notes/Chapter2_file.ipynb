{
 "cells": [
  {
   "cell_type": "code",
   "execution_count": 5,
   "metadata": {
    "tags": []
   },
   "outputs": [
    {
     "output_type": "stream",
     "name": "stdout",
     "text": "[{'Name': 'ZhangSan', 'Gender': 'Male', 'Age': '11'}, {'Name': 'LiSi', 'Gender': 'Male', 'Age': '22'}, {'Name': 'WangWu', 'Gender': 'Male', 'Age': '33'}, {'Name': 'ZhaoLiu', 'Gender': 'Female', 'Age': '44'}, {'Name': 'WangEr', 'Gender': 'Male', 'Age': '55'}]\n"
    }
   ],
   "source": [
    "# 读取文件\n",
    "f = open(\"C:\\\\Users\\\\yi611\\\\Python_Learn\\\\file.txt\")\n",
    "lst = []\n",
    "for line in f:\n",
    "    lst.append(eval(line))\n",
    "f.close()\n",
    "print(lst)\n",
    "# 读取完之后，指针已经指向文件末尾"
   ]
  },
  {
   "cell_type": "code",
   "execution_count": 10,
   "metadata": {
    "tags": []
   },
   "outputs": [
    {
     "output_type": "stream",
     "name": "stdout",
     "text": "clear all\n"
    }
   ],
   "source": [
    "# 创建文件并写入\n",
    "nf = open(\"C:\\\\Users\\\\yi611\\\\Python_Learn\\\\file2.txt\",\"w\")\n",
    "nf.write(\"clear all\")\n",
    "nf.close()\n",
    "nf = open(\"C:\\\\Users\\\\yi611\\\\Python_Learn\\\\file.txt\")\n",
    "for line in nf:\n",
    "    print (line)\n",
    "nf.close()"
   ]
  },
  {
   "cell_type": "markdown",
   "metadata": {},
   "source": [
    "open 模式及描述（默认r）\n",
    "\n",
    "r\t    以读方式打开文件，可读取文件信息。\n",
    "\n",
    "w\t    以写方式打开文件，可向文件写入信息。如文件存在，则清空该文件，再写入新内容\n",
    "\n",
    "a\t    以追加模式打开文件（即一打开文件，文件指针自动移到文件末尾），如果文件不存在则创建\n",
    "\n",
    "r+\t以读写方式打开文件，可对文件进行读和写操作。\n",
    "\n",
    "w+\t消除文件内容，然后以读写方式打开文件。\n",
    "\n",
    "a+\t以读写方式打开文件，并把文件指针移到文件尾。\n",
    "\n",
    "b\t以二进制模式打开文件，而不是以文本模式。该模式只对 Windows 或 Dos 有效，类 Unix 的文件是用二进制模式进行操作的。"
   ]
  },
  {
   "cell_type": "code",
   "execution_count": 17,
   "metadata": {
    "tags": []
   },
   "outputs": [
    {
     "output_type": "stream",
     "name": "stdout",
     "text": "Hello\nHow are you?\nI'm fine.\nThank you.\nThis is about 'with...as...'\nThis is about 'with...as...'\nThis is about 'with...as...'\nThis is about 'with...as...'\nThis is about 'with...as...'\nThis is about 'with...as...'\nThis is about 'with...as...'\n"
    }
   ],
   "source": [
    "# with 打开文件,可以不用加上file.close()\n",
    "with open(\"C:\\\\Users\\\\yi611\\\\Python_Learn\\\\file1.txt\",\"a\") as f:\n",
    "    f.write(\"\\nThis is about 'with...as...'\")\n",
    "with open(\"C:\\\\Users\\\\yi611\\\\Python_Learn\\\\file1.txt\",\"r\") as f:\n",
    "    print (f.read())"
   ]
  },
  {
   "cell_type": "code",
   "execution_count": 24,
   "metadata": {
    "tags": []
   },
   "outputs": [
    {
     "output_type": "stream",
     "name": "stdout",
     "text": "os.stat_result(st_mode=33206, st_ino=17451448556130350, st_dev=1752232694, st_nlink=1, st_uid=0, st_gid=0, st_size=252, st_atime=1594127686, st_mtime=1594127686, st_ctime=1594127544)\n"
    },
    {
     "output_type": "execute_result",
     "data": {
      "text/plain": "time.struct_time(tm_year=2020, tm_mon=7, tm_mday=7, tm_hour=21, tm_min=12, tm_sec=24, tm_wday=1, tm_yday=189, tm_isdst=0)"
     },
     "metadata": {},
     "execution_count": 24
    }
   ],
   "source": [
    "# 查看文件状态\n",
    "import os\n",
    "import time\n",
    "file_stat = os.stat(\"C:\\\\Users\\\\yi611\\\\Python_Learn\\\\file1.txt\")\n",
    "print(file_stat)\n",
    "time.localtime(file_stat.st_ctime)"
   ]
  },
  {
   "cell_type": "markdown",
   "metadata": {},
   "source": [
    " read/readline/readlines\n",
    " \n",
    "read([size])：如果指定了参数 size，就按照该指定长度从文件中读取内容，否则，就读取全文。被读出来的内容，全部塞到一个字符串里面。\n",
    "\n",
    "readline([size])：可选参数 size 的含义同上。它则是以行 为单位返回字符串，也就是每次读一行，依次循环，如果不限定 size，直到最后一个返回的是空字符串，意味着到文件末尾了(EOF)。\n",
    "\n",
    "readlines([size])：size 同上。它返回的是以行为单位的列表，即相当于先执行readline()，得到每一行，然后把这一行的字符串作为列表中的元素塞到一个列表中，最后将此列表返回。"
   ]
  },
  {
   "cell_type": "code",
   "execution_count": 25,
   "metadata": {
    "tags": []
   },
   "outputs": [
    {
     "output_type": "stream",
     "name": "stdout",
     "text": "Hello\n\nHow are you?\n\nI'm fine.\n\nThank you.\n\nThis is about 'with...as...'\n\nThis is about 'with...as...'\n\nThis is about 'with...as...'\n\nThis is about 'with...as...'\n\nThis is about 'with...as...'\n\nThis is about 'with...as...'\n\nThis is about 'with...as...'\n"
    }
   ],
   "source": [
    "# ex file\n",
    "# 注意EOF\n",
    "\n",
    "# coding=utf-8\n",
    "\n",
    "f = open(\"C:\\\\Users\\\\yi611\\\\Python_Learn\\\\file1.txt\")\n",
    "\n",
    "while True:\n",
    "    line = f.readline()\n",
    "    if not line:         #到 EOF，返回空字符串，则终止循环\n",
    "        break\n",
    "    print (line) ,         #注意后面的逗号，去掉 print 语句后面的 '\\n'，保留原文件中的换行\n",
    "\n",
    "f.close()                #别忘记关闭文件"
   ]
  },
  {
   "cell_type": "code",
   "execution_count": 26,
   "metadata": {
    "tags": []
   },
   "outputs": [
    {
     "output_type": "stream",
     "name": "stdout",
     "text": "Hello\n\nHow are you?\n\nI'm fine.\n\nThank you.\n\nThis is about 'with...as...'\n\nThis is about 'with...as...'\n\nThis is about 'with...as...'\n\nThis is about 'with...as...'\n\nThis is about 'with...as...'\n\nThis is about 'with...as...'\n\nThis is about 'with...as...'\n"
    }
   ],
   "source": [
    "# 读大文件\n",
    "# fileinput 模块\n",
    "import fileinput\n",
    "for line in fileinput.input(\"C:\\\\Users\\\\yi611\\\\Python_Learn\\\\file1.txt\"):\n",
    "    print (line) ,\n"
   ]
  },
  {
   "cell_type": "code",
   "execution_count": 27,
   "metadata": {},
   "outputs": [
    {
     "output_type": "error",
     "ename": "ValueError",
     "evalue": "I/O operation on closed file.",
     "traceback": [
      "\u001b[1;31m---------------------------------------------------------------------------\u001b[0m",
      "\u001b[1;31mValueError\u001b[0m                                Traceback (most recent call last)",
      "\u001b[1;32m<ipython-input-27-045824f8a051>\u001b[0m in \u001b[0;36m<module>\u001b[1;34m\u001b[0m\n\u001b[1;32m----> 1\u001b[1;33m \u001b[1;32mfor\u001b[0m \u001b[0mline\u001b[0m \u001b[1;32min\u001b[0m \u001b[0mf\u001b[0m\u001b[1;33m:\u001b[0m\u001b[1;33m\u001b[0m\u001b[1;33m\u001b[0m\u001b[0m\n\u001b[0m\u001b[0;32m      2\u001b[0m     \u001b[0mprint\u001b[0m \u001b[1;33m(\u001b[0m\u001b[0mline\u001b[0m\u001b[1;33m)\u001b[0m \u001b[1;33m,\u001b[0m\u001b[1;33m\u001b[0m\u001b[1;33m\u001b[0m\u001b[0m\n",
      "\u001b[1;31mValueError\u001b[0m: I/O operation on closed file."
     ]
    }
   ],
   "source": [
    "# 指针移动 seek\n",
    "# 以字节为单位移动\n",
    "# file.seek(0) 回到初始位置\n",
    "# file.tell() 显示当前指针位置"
   ]
  }
 ],
 "metadata": {
  "language_info": {
   "codemirror_mode": {
    "name": "ipython",
    "version": 3
   },
   "file_extension": ".py",
   "mimetype": "text/x-python",
   "name": "python",
   "nbconvert_exporter": "python",
   "pygments_lexer": "ipython3",
   "version": "3.7.6-final"
  },
  "orig_nbformat": 2,
  "kernelspec": {
   "name": "python3",
   "display_name": "Python 3"
  }
 },
 "nbformat": 4,
 "nbformat_minor": 2
}