{
 "cells": [
  {
   "cell_type": "code",
   "execution_count": 1,
   "metadata": {
    "tags": []
   },
   "outputs": [
    {
     "output_type": "stream",
     "name": "stdout",
     "text": "suzhou : 0512\n"
    }
   ],
   "source": [
    "citys = [\"suzhou\", \"tangshan\", \"beijing\", \"shanghai\"]\n",
    "city_codes = [\"0512\", \"0315\", \"011\", \"012\"]\n",
    "print (\"{} : {}\".format(citys[0], city_codes[0]))"
   ]
  },
  {
   "cell_type": "code",
   "execution_count": 6,
   "metadata": {},
   "outputs": [
    {
     "output_type": "execute_result",
     "data": {
      "text/plain": "{'name': 'Aya010',\n 'site': 'github.com/Aya010',\n 'language': 'python',\n 'name2': 'LYL'}"
     },
     "metadata": {},
     "execution_count": 6
    }
   ],
   "source": [
    "mydict = {} # 创建空字典\n",
    "person = {\"name\":\"Aya010\",\"site\":\"github.com/Aya010\",\"language\":\"python\"} # key : value\n",
    "person['name2'] = \"LYL\" # 新增键值对\n",
    "person"
   ]
  },
  {
   "cell_type": "code",
   "execution_count": 8,
   "metadata": {},
   "outputs": [
    {
     "output_type": "execute_result",
     "data": {
      "text/plain": "{'first': 'Google', 'Second': 'WiKi'}"
     },
     "metadata": {},
     "execution_count": 8
    }
   ],
   "source": [
    "# 利用元组创建字典\n",
    "name = ([\"first\",\"Google\"],[\"Second\",\"WiKi\"])\n",
    "website = dict(name)\n",
    "website"
   ]
  },
  {
   "cell_type": "code",
   "execution_count": 9,
   "metadata": {},
   "outputs": [
    {
     "output_type": "execute_result",
     "data": {
      "text/plain": "{'third': 'facebook', 'forth': 'facebook'}"
     },
     "metadata": {},
     "execution_count": 9
    }
   ],
   "source": [
    "# 使用fromkeys 创建字典\n",
    "website = {}.fromkeys((\"third\",\"forth\"),\"facebook\")\n",
    "website"
   ]
  },
  {
   "cell_type": "code",
   "execution_count": 11,
   "metadata": {},
   "outputs": [
    {
     "output_type": "execute_result",
     "data": {
      "text/plain": "{'suzhou': '0512', 'tangshan': '0315', 'beijing': '011', 'shanghai': '012'}"
     },
     "metadata": {},
     "execution_count": 11
    }
   ],
   "source": [
    "# 使用字典\n",
    "city_code = {\"suzhou\":\"0512\", \"tangshan\":\"0315\", \"beijing\":\"011\", \"shanghai\":\"012\"}\n",
    "#person['name']\n",
    "city_code"
   ]
  },
  {
   "cell_type": "code",
   "execution_count": 18,
   "metadata": {},
   "outputs": [
    {
     "output_type": "execute_result",
     "data": {
      "text/plain": "{'suzhou': '0512', 'tangshan': '0315', 'beijing': '010', 'nanjing': '025'}"
     },
     "metadata": {},
     "execution_count": 18
    }
   ],
   "source": [
    "# 字典的基本操作\n",
    "# len(d)，返回字典(d)中的键值对的数量\n",
    "# d[key]，返回字典(d)中的键(key)的值\n",
    "# d[key]=value，将值(value)赋给字典(d)中的键(key)，或新增\n",
    "# del d[key]，删除字典(d)的键(key)项（将该键值对删除）\n",
    "# key in d，检查字典(d)中是否含有键为 key 的项\n",
    "len(city_code)\n",
    "city_code[\"nanjing\"] = \"025\"\n",
    "city_code[\"beijing\"] = \"010\"\n",
    "city_code\n",
    "#del city_code[\"shanghai\"]\n",
    "# city_code[\"shanghai\"] # 报错，已删除\n"
   ]
  },
  {
   "cell_type": "code",
   "execution_count": 19,
   "metadata": {},
   "outputs": [
    {
     "output_type": "execute_result",
     "data": {
      "text/plain": "' Suzhou is a beautiful city, its area code is 0512'"
     },
     "metadata": {},
     "execution_count": 19
    }
   ],
   "source": [
    "# 通过字典格式化输出\n",
    "\" Suzhou is a beautiful city, its area code is %(suzhou)s\" % city_code"
   ]
  }
 ],
 "metadata": {
  "language_info": {
   "codemirror_mode": {
    "name": "ipython",
    "version": 3
   },
   "file_extension": ".py",
   "mimetype": "text/x-python",
   "name": "python",
   "nbconvert_exporter": "python",
   "pygments_lexer": "ipython3",
   "version": "3.7.6-final"
  },
  "orig_nbformat": 2,
  "kernelspec": {
   "name": "python3",
   "display_name": "Python 3"
  }
 },
 "nbformat": 4,
 "nbformat_minor": 2
}